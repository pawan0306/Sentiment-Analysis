{
 "cells": [
  {
   "cell_type": "code",
   "execution_count": 1,
   "metadata": {
    "colab": {
     "base_uri": "https://localhost:8080/"
    },
    "id": "m_1waU8qCfNz",
    "outputId": "7e8e8509-3a93-4855-d713-5845458b322c"
   },
   "outputs": [],
   "source": [
    "import pandas as pd\n",
    "import numpy as np\n",
    "import nltk\n",
    "nltk.download('stopwords')\n",
    "import re\n",
    "from nltk.corpus import stopwords\n",
    "from sklearn.model_selection import train_test_split\n",
    "from tensorflow import keras\n",
    "from tensorflow.keras.preprocessing.text import Tokenizer\n",
    "from tensorflow.keras.preprocessing.sequence import pad_sequences\n",
    "from tensorflow.keras.models import Sequential  \n",
    "from tensorflow.keras.layers import Embedding, LSTM, Dense, Bidirectional,SimpleRNN\n",
    "import matplotlib.pyplot as plt\n",
    "#from google.colab import drive\n",
    "#drive.mount('/content/drive')"
   ]
  },
  {
   "cell_type": "markdown",
   "metadata": {
    "id": "-hA4EJhhDwvP"
   },
   "source": [
    "# **Loading IMDB Movie Review Dataset**"
   ]
  },
  {
   "cell_type": "code",
   "execution_count": 4,
   "metadata": {
    "colab": {
     "base_uri": "https://localhost:8080/",
     "height": 1000
    },
    "id": "f4_QgEkyCfN2",
    "outputId": "9679b2fd-d127-4a4a-e1ed-50043bb25cc4"
   },
   "outputs": [
    {
     "name": "stdout",
     "output_type": "stream",
     "text": [
      "(50000, 2)\n"
     ]
    },
    {
     "data": {
      "text/html": [
       "<div>\n",
       "<style scoped>\n",
       "    .dataframe tbody tr th:only-of-type {\n",
       "        vertical-align: middle;\n",
       "    }\n",
       "\n",
       "    .dataframe tbody tr th {\n",
       "        vertical-align: top;\n",
       "    }\n",
       "\n",
       "    .dataframe thead th {\n",
       "        text-align: right;\n",
       "    }\n",
       "</style>\n",
       "<table border=\"1\" class=\"dataframe\">\n",
       "  <thead>\n",
       "    <tr style=\"text-align: right;\">\n",
       "      <th></th>\n",
       "      <th>review</th>\n",
       "      <th>sentiment</th>\n",
       "    </tr>\n",
       "  </thead>\n",
       "  <tbody>\n",
       "    <tr>\n",
       "      <th>0</th>\n",
       "      <td>One of the other reviewers has mentioned that ...</td>\n",
       "      <td>positive</td>\n",
       "    </tr>\n",
       "    <tr>\n",
       "      <th>1</th>\n",
       "      <td>A wonderful little production. &lt;br /&gt;&lt;br /&gt;The...</td>\n",
       "      <td>positive</td>\n",
       "    </tr>\n",
       "    <tr>\n",
       "      <th>2</th>\n",
       "      <td>I thought this was a wonderful way to spend ti...</td>\n",
       "      <td>positive</td>\n",
       "    </tr>\n",
       "    <tr>\n",
       "      <th>3</th>\n",
       "      <td>Basically there's a family where a little boy ...</td>\n",
       "      <td>negative</td>\n",
       "    </tr>\n",
       "    <tr>\n",
       "      <th>4</th>\n",
       "      <td>Petter Mattei's \"Love in the Time of Money\" is...</td>\n",
       "      <td>positive</td>\n",
       "    </tr>\n",
       "    <tr>\n",
       "      <th>...</th>\n",
       "      <td>...</td>\n",
       "      <td>...</td>\n",
       "    </tr>\n",
       "    <tr>\n",
       "      <th>49995</th>\n",
       "      <td>I thought this movie did a down right good job...</td>\n",
       "      <td>positive</td>\n",
       "    </tr>\n",
       "    <tr>\n",
       "      <th>49996</th>\n",
       "      <td>Bad plot, bad dialogue, bad acting, idiotic di...</td>\n",
       "      <td>negative</td>\n",
       "    </tr>\n",
       "    <tr>\n",
       "      <th>49997</th>\n",
       "      <td>I am a Catholic taught in parochial elementary...</td>\n",
       "      <td>negative</td>\n",
       "    </tr>\n",
       "    <tr>\n",
       "      <th>49998</th>\n",
       "      <td>I'm going to have to disagree with the previou...</td>\n",
       "      <td>negative</td>\n",
       "    </tr>\n",
       "    <tr>\n",
       "      <th>49999</th>\n",
       "      <td>No one expects the Star Trek movies to be high...</td>\n",
       "      <td>negative</td>\n",
       "    </tr>\n",
       "  </tbody>\n",
       "</table>\n",
       "<p>50000 rows × 2 columns</p>\n",
       "</div>"
      ],
      "text/plain": [
       "                                                  review sentiment\n",
       "0      One of the other reviewers has mentioned that ...  positive\n",
       "1      A wonderful little production. <br /><br />The...  positive\n",
       "2      I thought this was a wonderful way to spend ti...  positive\n",
       "3      Basically there's a family where a little boy ...  negative\n",
       "4      Petter Mattei's \"Love in the Time of Money\" is...  positive\n",
       "...                                                  ...       ...\n",
       "49995  I thought this movie did a down right good job...  positive\n",
       "49996  Bad plot, bad dialogue, bad acting, idiotic di...  negative\n",
       "49997  I am a Catholic taught in parochial elementary...  negative\n",
       "49998  I'm going to have to disagree with the previou...  negative\n",
       "49999  No one expects the Star Trek movies to be high...  negative\n",
       "\n",
       "[50000 rows x 2 columns]"
      ]
     },
     "execution_count": 4,
     "metadata": {},
     "output_type": "execute_result"
    }
   ],
   "source": [
    "data=pd.read_csv('IMDB_Dataset.csv')\n",
    "print(data.shape)\n",
    "data"
   ]
  },
  {
   "cell_type": "markdown",
   "metadata": {
    "id": "UtQUADGdEEBA"
   },
   "source": [
    "# Preprocessing Data"
   ]
  },
  {
   "cell_type": "code",
   "execution_count": 5,
   "metadata": {
    "colab": {
     "base_uri": "https://localhost:8080/"
    },
    "id": "NlU1x1sXCfN4",
    "outputId": "e709d728-dcdd-40b1-ab60-ef73af7c9b32"
   },
   "outputs": [
    {
     "data": {
      "text/plain": [
       "0        [One, reviewers, mentioned, watching, Oz, epis...\n",
       "1        [A, wonderful, little, production, The, filmin...\n",
       "2        [I, thought, wonderful, way, spend, time, hot,...\n",
       "3        [Basically, family, little, boy, Jake, thinks,...\n",
       "4        [Petter, Mattei, Love, Time, Money, visually, ...\n",
       "                               ...                        \n",
       "49995    [I, thought, movie, right, good, job, It, crea...\n",
       "49996    [Bad, plot, bad, dialogue, bad, acting, idioti...\n",
       "49997    [I, Catholic, taught, parochial, elementary, s...\n",
       "49998    [I, going, disagree, previous, comment, side, ...\n",
       "49999    [No, one, expects, Star, Trek, movies, high, a...\n",
       "Name: review, Length: 50000, dtype: object"
      ]
     },
     "execution_count": 5,
     "metadata": {},
     "output_type": "execute_result"
    }
   ],
   "source": [
    "reviews = data['review']\n",
    "sentiments = data['sentiment']\n",
    "\n",
    "reviews = reviews.replace({'<.*?>': ''}, regex = True)        \n",
    "reviews  = reviews.replace({'[^A-Za-z]': ' '}, regex = True) \n",
    "stop_words = set(stopwords.words('english'))\n",
    "reviews = reviews.apply(lambda review: [word for word in review.split() if word not in stop_words])\n",
    "reviews"
   ]
  },
  {
   "cell_type": "markdown",
   "metadata": {},
   "source": [
    "# Finding Max length review"
   ]
  },
  {
   "cell_type": "code",
   "execution_count": 15,
   "metadata": {},
   "outputs": [
    {
     "data": {
      "text/plain": [
       "119"
      ]
     },
     "execution_count": 15,
     "metadata": {},
     "output_type": "execute_result"
    }
   ],
   "source": [
    "len(reviews.max())"
   ]
  },
  {
   "cell_type": "markdown",
   "metadata": {},
   "source": [
    "# Converting Sentiment feature into Binary"
   ]
  },
  {
   "cell_type": "code",
   "execution_count": 7,
   "metadata": {
    "colab": {
     "base_uri": "https://localhost:8080/"
    },
    "id": "X64zS9zjCfN5",
    "outputId": "95c78589-3810-47ae-a62f-065cb8b1b126"
   },
   "outputs": [
    {
     "data": {
      "text/plain": [
       "0        1\n",
       "1        1\n",
       "2        1\n",
       "3        0\n",
       "4        1\n",
       "        ..\n",
       "49995    1\n",
       "49996    0\n",
       "49997    0\n",
       "49998    0\n",
       "49999    0\n",
       "Name: sentiment, Length: 50000, dtype: int64"
      ]
     },
     "execution_count": 7,
     "metadata": {},
     "output_type": "execute_result"
    }
   ],
   "source": [
    "sentiments = sentiments.replace('positive', 1)\n",
    "sentiments = sentiments.replace('negative', 0)\n",
    "sentiments"
   ]
  },
  {
   "cell_type": "markdown",
   "metadata": {},
   "source": [
    "# Tokenization and Splitting into Train and Test"
   ]
  },
  {
   "cell_type": "code",
   "execution_count": 16,
   "metadata": {
    "colab": {
     "base_uri": "https://localhost:8080/"
    },
    "id": "_1RWzS7BCfN6",
    "outputId": "c277d2a7-2226-4c2a-d687-178b788a0b81"
   },
   "outputs": [
    {
     "data": {
      "text/plain": [
       "array([    0,     0,     0,     0,     0,     0,     0,     0,     0,\n",
       "           0,     0,     0,     0,     0,     0,     0,     0,     0,\n",
       "           0,     0,     0,     0,     0,     0,     0,   410,     3,\n",
       "          98,    24,  1437,  1310,   234,   117,   244, 43526,   571,\n",
       "           2,   660,   318,   571,  2226,    29,    58,    88,    64,\n",
       "         299,    12,    51,    58,   124,    44,  3982,    88,   208,\n",
       "         247,     5,    93,  9886,    64,    85,     2,    43,   712,\n",
       "         394,   264,   392,  5732,   344,    67,   643,   483,    14,\n",
       "        2029,   269,     2,   492,  1049,   144,  1801,   983,  3065,\n",
       "         597,  9423,   636,   441,     5,    53,   273,  9570,   327,\n",
       "           3,  1168,    39, 19466,  1188, 17374,     4,  7305,   259,\n",
       "         106,   776,    54,    15,   235,  1257,  5595,   445,   669,\n",
       "          27,   513,  9285,    60,  2092,   131,    53,     3,    94,\n",
       "         954,   513,    17], dtype=int32)"
      ]
     },
     "execution_count": 16,
     "metadata": {},
     "output_type": "execute_result"
    }
   ],
   "source": [
    "reviews_train, reviews_test, sentiments_train, sentiments_test = train_test_split(reviews , sentiments, test_size = 0.3)\n",
    "token = Tokenizer(lower=True)  \n",
    "token.fit_on_texts(reviews_train)\n",
    "reviews_train = token.texts_to_sequences(reviews_train)\n",
    "reviews_test = token.texts_to_sequences(reviews_test)\n",
    "max_review_length = 120\n",
    "reviews_train = pad_sequences(reviews_train, maxlen=max_review_length)\n",
    "reviews_test = pad_sequences(reviews_test, maxlen=max_review_length)\n",
    "total_words = len(token.word_index) + 1\n",
    "reviews_train[1]"
   ]
  },
  {
   "cell_type": "markdown",
   "metadata": {
    "id": "XQE5p1-aGVMG"
   },
   "source": [
    "# **RNN**\n",
    "### With Single Layer of RNN\n",
    "#### Adam Optimiser"
   ]
  },
  {
   "cell_type": "code",
   "execution_count": 39,
   "metadata": {
    "colab": {
     "base_uri": "https://localhost:8080/"
    },
    "id": "h6K4YWCAGRNa",
    "outputId": "a027995b-f4ea-4a22-8a58-6e672eeb9f8f"
   },
   "outputs": [
    {
     "name": "stdout",
     "output_type": "stream",
     "text": [
      "Model: \"sequential_9\"\n",
      "_________________________________________________________________\n",
      "Layer (type)                 Output Shape              Param #   \n",
      "=================================================================\n",
      "embedding_9 (Embedding)      (None, 120, 32)           3102528   \n",
      "_________________________________________________________________\n",
      "simple_rnn_9 (SimpleRNN)     (None, 100)               13300     \n",
      "_________________________________________________________________\n",
      "dense_9 (Dense)              (None, 1)                 101       \n",
      "=================================================================\n",
      "Total params: 3,115,929\n",
      "Trainable params: 3,115,929\n",
      "Non-trainable params: 0\n",
      "_________________________________________________________________\n",
      "None\n"
     ]
    }
   ],
   "source": [
    "embedding_dim = 32\n",
    "model1_rnn1 = Sequential()\n",
    "model1_rnn1.add(Embedding(total_words, embedding_dim, input_length=max_review_length))\n",
    "model1_rnn1.add(SimpleRNN(100, dropout=0.25))\n",
    "model1_rnn1.add(Dense(1, activation='sigmoid'))\n",
    "opt = keras.optimizers.Adam()\n",
    "model1_rnn1.compile(loss='binary_crossentropy', optimizer=opt, metrics=['accuracy'])\n",
    "print(model1_rnn1.summary())"
   ]
  },
  {
   "cell_type": "markdown",
   "metadata": {},
   "source": [
    "#### SGD Optimizer"
   ]
  },
  {
   "cell_type": "code",
   "execution_count": 40,
   "metadata": {},
   "outputs": [
    {
     "name": "stdout",
     "output_type": "stream",
     "text": [
      "Model: \"sequential_10\"\n",
      "_________________________________________________________________\n",
      "Layer (type)                 Output Shape              Param #   \n",
      "=================================================================\n",
      "embedding_10 (Embedding)     (None, 120, 32)           3102528   \n",
      "_________________________________________________________________\n",
      "simple_rnn_10 (SimpleRNN)    (None, 100)               13300     \n",
      "_________________________________________________________________\n",
      "dense_10 (Dense)             (None, 1)                 101       \n",
      "=================================================================\n",
      "Total params: 3,115,929\n",
      "Trainable params: 3,115,929\n",
      "Non-trainable params: 0\n",
      "_________________________________________________________________\n",
      "None\n"
     ]
    }
   ],
   "source": [
    "model2_rnn1 = Sequential()\n",
    "model2_rnn1.add(Embedding(total_words, embedding_dim, input_length=max_review_length))\n",
    "model2_rnn1.add(SimpleRNN(100, dropout=0.25))\n",
    "model2_rnn1.add(Dense(1, activation='sigmoid'))\n",
    "opt = keras.optimizers.SGD()\n",
    "model2_rnn1.compile(loss='binary_crossentropy', optimizer=opt, metrics=['accuracy'])\n",
    "print(model2_rnn1.summary())"
   ]
  },
  {
   "cell_type": "markdown",
   "metadata": {},
   "source": [
    "#### RMSProp Optimizer"
   ]
  },
  {
   "cell_type": "code",
   "execution_count": 41,
   "metadata": {},
   "outputs": [
    {
     "name": "stdout",
     "output_type": "stream",
     "text": [
      "Model: \"sequential_11\"\n",
      "_________________________________________________________________\n",
      "Layer (type)                 Output Shape              Param #   \n",
      "=================================================================\n",
      "embedding_11 (Embedding)     (None, 120, 32)           3102528   \n",
      "_________________________________________________________________\n",
      "simple_rnn_11 (SimpleRNN)    (None, 100)               13300     \n",
      "_________________________________________________________________\n",
      "dense_11 (Dense)             (None, 1)                 101       \n",
      "=================================================================\n",
      "Total params: 3,115,929\n",
      "Trainable params: 3,115,929\n",
      "Non-trainable params: 0\n",
      "_________________________________________________________________\n",
      "None\n"
     ]
    }
   ],
   "source": [
    "model3_rnn1 = Sequential()\n",
    "model3_rnn1.add(Embedding(total_words, embedding_dim, input_length=max_review_length))\n",
    "model3_rnn1.add(SimpleRNN(100, dropout=0.25))\n",
    "model3_rnn1.add(Dense(1, activation='sigmoid'))\n",
    "opt = keras.optimizers.RMSprop()\n",
    "model3_rnn1.compile(loss='binary_crossentropy', optimizer=opt, metrics=['accuracy'])\n",
    "print(model3_rnn1.summary())"
   ]
  },
  {
   "cell_type": "markdown",
   "metadata": {},
   "source": [
    "#### Training Models"
   ]
  },
  {
   "cell_type": "code",
   "execution_count": 42,
   "metadata": {
    "colab": {
     "base_uri": "https://localhost:8080/"
    },
    "id": "6CXUuHGsHXGn",
    "outputId": "7a72abc1-1c0a-4056-b149-240117f1295e"
   },
   "outputs": [
    {
     "name": "stdout",
     "output_type": "stream",
     "text": [
      "Epoch 1/5\n",
      "352/352 [==============================] - 17s 46ms/step - loss: 0.6702 - accuracy: 0.5601\n",
      "Epoch 2/5\n",
      "352/352 [==============================] - 16s 46ms/step - loss: 0.3193 - accuracy: 0.8676\n",
      "Epoch 3/5\n",
      "352/352 [==============================] - 16s 47ms/step - loss: 0.2030 - accuracy: 0.9240\n",
      "Epoch 4/5\n",
      "352/352 [==============================] - 18s 50ms/step - loss: 0.1384 - accuracy: 0.9503\n",
      "Epoch 5/5\n",
      "352/352 [==============================] - 17s 48ms/step - loss: 0.0879 - accuracy: 0.9688\n"
     ]
    },
    {
     "data": {
      "text/plain": [
       "<tensorflow.python.keras.callbacks.History at 0x7fc59054e670>"
      ]
     },
     "execution_count": 42,
     "metadata": {},
     "output_type": "execute_result"
    }
   ],
   "source": [
    "model1_rnn1.fit(reviews_train, sentiments_train, batch_size = 128, epochs = 5)"
   ]
  },
  {
   "cell_type": "code",
   "execution_count": 43,
   "metadata": {},
   "outputs": [
    {
     "name": "stdout",
     "output_type": "stream",
     "text": [
      "Epoch 1/5\n",
      "352/352 [==============================] - 12s 32ms/step - loss: 0.6978 - accuracy: 0.4951\n",
      "Epoch 2/5\n",
      "352/352 [==============================] - 11s 32ms/step - loss: 0.6933 - accuracy: 0.5095\n",
      "Epoch 3/5\n",
      "352/352 [==============================] - 13s 38ms/step - loss: 0.6930 - accuracy: 0.5139\n",
      "Epoch 4/5\n",
      "352/352 [==============================] - 13s 36ms/step - loss: 0.6921 - accuracy: 0.5191\n",
      "Epoch 5/5\n",
      "352/352 [==============================] - 14s 39ms/step - loss: 0.6916 - accuracy: 0.5208\n"
     ]
    },
    {
     "data": {
      "text/plain": [
       "<tensorflow.python.keras.callbacks.History at 0x7fc59c470580>"
      ]
     },
     "execution_count": 43,
     "metadata": {},
     "output_type": "execute_result"
    }
   ],
   "source": [
    "model2_rnn1.fit(reviews_train, sentiments_train, batch_size = 128, epochs = 5)"
   ]
  },
  {
   "cell_type": "code",
   "execution_count": 44,
   "metadata": {},
   "outputs": [
    {
     "name": "stdout",
     "output_type": "stream",
     "text": [
      "Epoch 1/5\n",
      "352/352 [==============================] - 13s 35ms/step - loss: 0.6873 - accuracy: 0.5325\n",
      "Epoch 2/5\n",
      "352/352 [==============================] - 13s 36ms/step - loss: 0.4434 - accuracy: 0.7985\n",
      "Epoch 3/5\n",
      "352/352 [==============================] - 14s 39ms/step - loss: 0.3911 - accuracy: 0.8312\n",
      "Epoch 4/5\n",
      "352/352 [==============================] - 15s 41ms/step - loss: 0.2988 - accuracy: 0.8814\n",
      "Epoch 5/5\n",
      "352/352 [==============================] - 14s 39ms/step - loss: 0.2621 - accuracy: 0.8964\n"
     ]
    },
    {
     "data": {
      "text/plain": [
       "<tensorflow.python.keras.callbacks.History at 0x7fc59bb5e4f0>"
      ]
     },
     "execution_count": 44,
     "metadata": {},
     "output_type": "execute_result"
    }
   ],
   "source": [
    "model3_rnn1.fit(reviews_train, sentiments_train, batch_size = 128, epochs = 5)"
   ]
  },
  {
   "cell_type": "markdown",
   "metadata": {},
   "source": [
    "#### Calculating Accuracy"
   ]
  },
  {
   "cell_type": "code",
   "execution_count": 45,
   "metadata": {
    "colab": {
     "base_uri": "https://localhost:8080/"
    },
    "id": "_2DQNMcyHY1v",
    "outputId": "d052ed20-52fb-4025-c15b-5a620c776e60"
   },
   "outputs": [],
   "source": [
    "result = model1_rnn1.evaluate(reviews_test, sentiments_test, verbose=0)\n",
    "accuracy1_RNN1 = result[1]*100\n",
    "#print(\"Accuracy: %.2f%%\" % (result[1]*100))"
   ]
  },
  {
   "cell_type": "code",
   "execution_count": 46,
   "metadata": {},
   "outputs": [],
   "source": [
    "result = model2_rnn1.evaluate(reviews_test, sentiments_test, verbose=0)\n",
    "accuracy2_RNN1 = result[1]*100"
   ]
  },
  {
   "cell_type": "code",
   "execution_count": 47,
   "metadata": {},
   "outputs": [],
   "source": [
    "result = model3_rnn1.evaluate(reviews_test, sentiments_test, verbose=0)\n",
    "accuracy3_RNN1 = result[1]*100"
   ]
  },
  {
   "cell_type": "markdown",
   "metadata": {},
   "source": [
    "### With Dense Layers of RNN\n",
    "#### Adam Optimizer"
   ]
  },
  {
   "cell_type": "code",
   "execution_count": 86,
   "metadata": {},
   "outputs": [
    {
     "name": "stdout",
     "output_type": "stream",
     "text": [
      "Model: \"sequential_30\"\n",
      "_________________________________________________________________\n",
      "Layer (type)                 Output Shape              Param #   \n",
      "=================================================================\n",
      "embedding_30 (Embedding)     (None, 120, 32)           3102528   \n",
      "_________________________________________________________________\n",
      "simple_rnn_46 (SimpleRNN)    (None, 120, 100)          13300     \n",
      "_________________________________________________________________\n",
      "simple_rnn_47 (SimpleRNN)    (None, 120, 100)          20100     \n",
      "_________________________________________________________________\n",
      "dense_19 (Dense)             (None, 120, 1)            101       \n",
      "=================================================================\n",
      "Total params: 3,136,029\n",
      "Trainable params: 3,136,029\n",
      "Non-trainable params: 0\n",
      "_________________________________________________________________\n",
      "None\n"
     ]
    }
   ],
   "source": [
    "model1_rnn2 = Sequential()\n",
    "model1_rnn2.add(Embedding(total_words, embedding_dim, input_length=max_review_length))\n",
    "model1_rnn2.add(SimpleRNN(100, dropout=0.25, return_sequences=True))\n",
    "model1_rnn2.add(SimpleRNN(100, dropout=0.25, return_sequences=True))\n",
    "model1_rnn2.add(Dense(1, activation='sigmoid'))\n",
    "opt = keras.optimizers.Adam()\n",
    "model1_rnn2.compile(loss='binary_crossentropy', optimizer=opt, metrics=['accuracy'])\n",
    "print(model1_rnn2.summary())"
   ]
  },
  {
   "cell_type": "markdown",
   "metadata": {},
   "source": [
    "#### SGD Optimizer"
   ]
  },
  {
   "cell_type": "code",
   "execution_count": 89,
   "metadata": {},
   "outputs": [
    {
     "name": "stdout",
     "output_type": "stream",
     "text": [
      "Model: \"sequential_31\"\n",
      "_________________________________________________________________\n",
      "Layer (type)                 Output Shape              Param #   \n",
      "=================================================================\n",
      "embedding_31 (Embedding)     (None, 120, 32)           3102528   \n",
      "_________________________________________________________________\n",
      "simple_rnn_48 (SimpleRNN)    (None, 120, 100)          13300     \n",
      "_________________________________________________________________\n",
      "simple_rnn_49 (SimpleRNN)    (None, 120, 100)          20100     \n",
      "_________________________________________________________________\n",
      "dense_20 (Dense)             (None, 120, 1)            101       \n",
      "=================================================================\n",
      "Total params: 3,136,029\n",
      "Trainable params: 3,136,029\n",
      "Non-trainable params: 0\n",
      "_________________________________________________________________\n",
      "None\n"
     ]
    }
   ],
   "source": [
    "model2_rnn2 = Sequential()\n",
    "model2_rnn2.add(Embedding(total_words, embedding_dim, input_length=max_review_length))\n",
    "model2_rnn2.add(SimpleRNN(100, dropout=0.25, return_sequences=True))\n",
    "model2_rnn2.add(SimpleRNN(100, dropout=0.25, return_sequences=True))\n",
    "model2_rnn2.add(Dense(1, activation='sigmoid'))\n",
    "opt = keras.optimizers.SGD()\n",
    "model2_rnn2.compile(loss='binary_crossentropy', optimizer=opt, metrics=['accuracy'])\n",
    "print(model2_rnn2.summary())"
   ]
  },
  {
   "cell_type": "markdown",
   "metadata": {},
   "source": [
    "#### RMSProp Optimizer"
   ]
  },
  {
   "cell_type": "code",
   "execution_count": 92,
   "metadata": {},
   "outputs": [
    {
     "name": "stdout",
     "output_type": "stream",
     "text": [
      "Model: \"sequential_32\"\n",
      "_________________________________________________________________\n",
      "Layer (type)                 Output Shape              Param #   \n",
      "=================================================================\n",
      "embedding_32 (Embedding)     (None, 120, 32)           3102528   \n",
      "_________________________________________________________________\n",
      "simple_rnn_50 (SimpleRNN)    (None, 120, 100)          13300     \n",
      "_________________________________________________________________\n",
      "dense_21 (Dense)             (None, 120, 1)            101       \n",
      "=================================================================\n",
      "Total params: 3,115,929\n",
      "Trainable params: 3,115,929\n",
      "Non-trainable params: 0\n",
      "_________________________________________________________________\n",
      "None\n"
     ]
    }
   ],
   "source": [
    "model3_rnn2 = Sequential()\n",
    "model3_rnn2.add(Embedding(total_words, embedding_dim, input_length=max_review_length))\n",
    "model3_rnn2.add(SimpleRNN(100, dropout=0.25, return_sequences=True))\n",
    "model2_rnn2.add(SimpleRNN(100, dropout=0.25, return_sequences=True))\n",
    "model3_rnn2.add(Dense(1, activation='sigmoid'))\n",
    "opt = keras.optimizers.RMSprop()\n",
    "model3_rnn2.compile(loss='binary_crossentropy', optimizer=opt, metrics=['accuracy'])\n",
    "print(model3_rnn2.summary())"
   ]
  },
  {
   "cell_type": "markdown",
   "metadata": {},
   "source": [
    "#### Training Models"
   ]
  },
  {
   "cell_type": "code",
   "execution_count": 87,
   "metadata": {},
   "outputs": [
    {
     "name": "stdout",
     "output_type": "stream",
     "text": [
      "Epoch 1/5\n",
      "352/352 [==============================] - 33s 90ms/step - loss: 0.6161 - accuracy: 0.6202\n",
      "Epoch 2/5\n",
      "352/352 [==============================] - 31s 89ms/step - loss: 0.4518 - accuracy: 0.7533\n",
      "Epoch 3/5\n",
      "352/352 [==============================] - 47s 133ms/step - loss: 0.4114 - accuracy: 0.7791\n",
      "Epoch 4/5\n",
      "352/352 [==============================] - 50s 143ms/step - loss: 0.4220 - accuracy: 0.7704\n",
      "Epoch 5/5\n",
      "352/352 [==============================] - 51s 144ms/step - loss: 0.3740 - accuracy: 0.7957\n"
     ]
    },
    {
     "data": {
      "text/plain": [
       "<tensorflow.python.keras.callbacks.History at 0x7fc4e41e8190>"
      ]
     },
     "execution_count": 87,
     "metadata": {},
     "output_type": "execute_result"
    }
   ],
   "source": [
    "model1_rnn2.fit(reviews_train, sentiments_train, batch_size = 128, epochs = 5)"
   ]
  },
  {
   "cell_type": "code",
   "execution_count": 90,
   "metadata": {},
   "outputs": [
    {
     "name": "stdout",
     "output_type": "stream",
     "text": [
      "Epoch 1/5\n",
      "352/352 [==============================] - 34s 95ms/step - loss: 0.7128 - accuracy: 0.4995\n",
      "Epoch 2/5\n",
      "352/352 [==============================] - 45s 128ms/step - loss: 0.7019 - accuracy: 0.5008\n",
      "Epoch 3/5\n",
      "352/352 [==============================] - 34s 97ms/step - loss: 0.6990 - accuracy: 0.5017\n",
      "Epoch 4/5\n",
      "352/352 [==============================] - 48s 137ms/step - loss: 0.6973 - accuracy: 0.5032\n",
      "Epoch 5/5\n",
      "352/352 [==============================] - 46s 130ms/step - loss: 0.6964 - accuracy: 0.5036\n"
     ]
    },
    {
     "data": {
      "text/plain": [
       "<tensorflow.python.keras.callbacks.History at 0x7fc4ec0c82b0>"
      ]
     },
     "execution_count": 90,
     "metadata": {},
     "output_type": "execute_result"
    }
   ],
   "source": [
    "model2_rnn2.fit(reviews_train, sentiments_train, batch_size = 128, epochs = 5)"
   ]
  },
  {
   "cell_type": "code",
   "execution_count": 93,
   "metadata": {},
   "outputs": [
    {
     "name": "stdout",
     "output_type": "stream",
     "text": [
      "Epoch 1/5\n",
      "352/352 [==============================] - 16s 43ms/step - loss: 0.6358 - accuracy: 0.6195\n",
      "Epoch 2/5\n",
      "352/352 [==============================] - 17s 49ms/step - loss: 0.5227 - accuracy: 0.7235\n",
      "Epoch 3/5\n",
      "352/352 [==============================] - 17s 49ms/step - loss: 0.4926 - accuracy: 0.7417\n",
      "Epoch 4/5\n",
      "352/352 [==============================] - 18s 52ms/step - loss: 0.4778 - accuracy: 0.7478\n",
      "Epoch 5/5\n",
      "352/352 [==============================] - 22s 63ms/step - loss: 0.4628 - accuracy: 0.7551\n"
     ]
    },
    {
     "data": {
      "text/plain": [
       "<tensorflow.python.keras.callbacks.History at 0x7fc4e4848a60>"
      ]
     },
     "execution_count": 93,
     "metadata": {},
     "output_type": "execute_result"
    }
   ],
   "source": [
    "model3_rnn2.fit(reviews_train, sentiments_train, batch_size = 128, epochs = 5)"
   ]
  },
  {
   "cell_type": "markdown",
   "metadata": {},
   "source": [
    "#### Calculating Accuracies"
   ]
  },
  {
   "cell_type": "code",
   "execution_count": 88,
   "metadata": {},
   "outputs": [],
   "source": [
    "result = model1_rnn2.evaluate(reviews_test, sentiments_test, verbose=0)\n",
    "accuracy1_RNN2 = result[1]*100"
   ]
  },
  {
   "cell_type": "code",
   "execution_count": 91,
   "metadata": {},
   "outputs": [],
   "source": [
    "result = model2_rnn2.evaluate(reviews_test, sentiments_test, verbose=0)\n",
    "accuracy2_RNN2 = result[1]*100"
   ]
  },
  {
   "cell_type": "code",
   "execution_count": 94,
   "metadata": {},
   "outputs": [],
   "source": [
    "result = model3_rnn2.evaluate(reviews_test, sentiments_test, verbose=0)\n",
    "accuracy3_RNN2 = result[1]*100"
   ]
  },
  {
   "cell_type": "markdown",
   "metadata": {},
   "source": [
    "### Accuracy Table"
   ]
  },
  {
   "cell_type": "code",
   "execution_count": 95,
   "metadata": {},
   "outputs": [
    {
     "name": "stdout",
     "output_type": "stream",
     "text": [
      "+--------+-----------+-------------------+\n",
      "| Layers | Optimizer |      Accuracy     |\n",
      "+--------+-----------+-------------------+\n",
      "|  One   |    SGD    | 58.4221           |\n",
      "|  One   |  RMSProp  | 84.0142           |\n",
      "|  One   |    ADAM   | 85.3425           |\n",
      "|  Two   |    SGD    | 58.8261           |\n",
      "|  Two   |  RMSProp  | 84.6852           |\n",
      "|  Two   |    ADAM   | 85.7456           |\n",
      "+--------+-----------+-------------------+\n"
     ]
    }
   ],
   "source": [
    "from prettytable import PrettyTable \n",
    "\n",
    "myTable = PrettyTable([\"Layers\",\"Optimizer\", \"Accuracy\"]) \n",
    "  \n",
    "myTable.add_row([\"One\",\"SGD\", accuracy2_RNN1]) \n",
    "myTable.add_row([\"One\",\"RMSProp\", accuracy3_RNN1]) \n",
    "myTable.add_row([\"One\",\"ADAM\", accuracy1_RNN1]) \n",
    "myTable.add_row([\"Two\",\"SGD\", accuracy2_RNN2]) \n",
    "myTable.add_row([\"Two\",\"RMSProp\", accuracy3_RNN2]) \n",
    "myTable.add_row([\"Two\",\"ADAM\", accuracy1_RNN2]) \n",
    "  \n",
    "print(myTable)"
   ]
  },
  {
   "cell_type": "markdown",
   "metadata": {},
   "source": [
    "### Accuracy Graph"
   ]
  },
  {
   "cell_type": "code",
   "execution_count": 23,
   "metadata": {},
   "outputs": [
    {
     "data": {
      "image/png": "[encoded data removed]",
      "text/plain": [
       "<Figure size 576x360 with 1 Axes>"
      ]
     },
     "metadata": {
      "needs_background": "light"
     },
     "output_type": "display_data"
    }
   ],
   "source": [
    "y1 = [accuracy1_RNN1,accuracy2_RNN1,accuracy3_RNN1]\n",
    "y2 = [accuracy1_RNN2,accuracy2_RNN2,accuracy3_RNN2]\n",
    "x = [\"SGD\",\"RMSProp\",\"ADAM\"]\n",
    "plt.figure(figsize=(8,5))\n",
    "plt.plot(x,y1,label='Single Layer')\n",
    "plt.plot(x,y2,label='Dense Layer')\n",
    "plt.legend()\n",
    "plt.xlabel(\"Optimizer\")\n",
    "plt.ylabel(\"Accuracy\")\n",
    "plt.show()"
   ]
  },
  {
   "cell_type": "markdown",
   "metadata": {
    "id": "0NYjaIVDFigC"
   },
   "source": [
    "# **LSTM Model**\n",
    "### With Single Layer of LSTM\n",
    "#### SGD Optimizer"
   ]
  },
  {
   "cell_type": "code",
   "execution_count": 96,
   "metadata": {
    "colab": {
     "base_uri": "https://localhost:8080/"
    },
    "id": "Hbl4m4yVCfN7",
    "outputId": "01b9174d-29d1-444f-c684-860cf6891a78"
   },
   "outputs": [
    {
     "name": "stdout",
     "output_type": "stream",
     "text": [
      "Model: \"sequential_33\"\n",
      "_________________________________________________________________\n",
      "Layer (type)                 Output Shape              Param #   \n",
      "=================================================================\n",
      "embedding_33 (Embedding)     (None, 120, 32)           3102528   \n",
      "_________________________________________________________________\n",
      "lstm (LSTM)                  (None, 100)               53200     \n",
      "_________________________________________________________________\n",
      "dense_22 (Dense)             (None, 1)                 101       \n",
      "=================================================================\n",
      "Total params: 3,155,829\n",
      "Trainable params: 3,155,829\n",
      "Non-trainable params: 0\n",
      "_________________________________________________________________\n",
      "None\n"
     ]
    }
   ],
   "source": [
    "embedding_dim = 32\n",
    "model1_lstm1 = Sequential()\n",
    "model1_lstm1.add(Embedding(total_words, embedding_dim, input_length=max_review_length))\n",
    "model1_lstm1.add(LSTM(100, dropout=0.25))\n",
    "model1_lstm1.add(Dense(1, activation='sigmoid'))\n",
    "opt = keras.optimizers.SGD()\n",
    "model1_lstm1.compile(loss='binary_crossentropy', optimizer=opt, metrics=['accuracy'])\n",
    "print(model1_lstm1.summary())"
   ]
  },
  {
   "cell_type": "markdown",
   "metadata": {},
   "source": [
    "#### RMSProp Optimizer"
   ]
  },
  {
   "cell_type": "code",
   "execution_count": 99,
   "metadata": {},
   "outputs": [
    {
     "name": "stdout",
     "output_type": "stream",
     "text": [
      "Model: \"sequential_36\"\n",
      "_________________________________________________________________\n",
      "Layer (type)                 Output Shape              Param #   \n",
      "=================================================================\n",
      "embedding_36 (Embedding)     (None, 120, 32)           3102528   \n",
      "_________________________________________________________________\n",
      "lstm_3 (LSTM)                (None, 100)               53200     \n",
      "_________________________________________________________________\n",
      "dense_25 (Dense)             (None, 1)                 101       \n",
      "=================================================================\n",
      "Total params: 3,155,829\n",
      "Trainable params: 3,155,829\n",
      "Non-trainable params: 0\n",
      "_________________________________________________________________\n",
      "None\n"
     ]
    }
   ],
   "source": [
    "model2_lstm1 = Sequential()\n",
    "model2_lstm1.add(Embedding(total_words, embedding_dim, input_length=max_review_length))\n",
    "model2_lstm1.add(LSTM(100, dropout=0.25))\n",
    "model2_lstm1.add(Dense(1, activation='sigmoid'))\n",
    "opt = keras.optimizers.RMSprop()\n",
    "model2_lstm1.compile(loss='binary_crossentropy', optimizer=opt, metrics=['accuracy'])\n",
    "print(model2_lstm1.summary())"
   ]
  },
  {
   "cell_type": "markdown",
   "metadata": {},
   "source": [
    "#### Adam Optimizer"
   ]
  },
  {
   "cell_type": "code",
   "execution_count": 100,
   "metadata": {},
   "outputs": [
    {
     "name": "stdout",
     "output_type": "stream",
     "text": [
      "Model: \"sequential_37\"\n",
      "_________________________________________________________________\n",
      "Layer (type)                 Output Shape              Param #   \n",
      "=================================================================\n",
      "embedding_37 (Embedding)     (None, 120, 32)           3102528   \n",
      "_________________________________________________________________\n",
      "lstm_4 (LSTM)                (None, 100)               53200     \n",
      "_________________________________________________________________\n",
      "dense_26 (Dense)             (None, 1)                 101       \n",
      "=================================================================\n",
      "Total params: 3,155,829\n",
      "Trainable params: 3,155,829\n",
      "Non-trainable params: 0\n",
      "_________________________________________________________________\n",
      "None\n"
     ]
    }
   ],
   "source": [
    "model3_lstm1 = Sequential()\n",
    "model3_lstm1.add(Embedding(total_words, embedding_dim, input_length=max_review_length))\n",
    "model3_lstm1.add(LSTM(100, dropout=0.25))\n",
    "model3_lstm1.add(Dense(1, activation='sigmoid'))\n",
    "opt = keras.optimizers.Adam()\n",
    "model3_lstm1.compile(loss='binary_crossentropy', optimizer=opt, metrics=['accuracy'])\n",
    "print(model3_lstm1.summary())"
   ]
  },
  {
   "cell_type": "markdown",
   "metadata": {},
   "source": [
    "#### Training Models"
   ]
  },
  {
   "cell_type": "code",
   "execution_count": 101,
   "metadata": {
    "colab": {
     "base_uri": "https://localhost:8080/"
    },
    "id": "YxSiJPXsCfN7",
    "outputId": "423c79a6-49de-46cd-b64e-84341ec0ab9c"
   },
   "outputs": [
    {
     "name": "stdout",
     "output_type": "stream",
     "text": [
      "Epoch 1/5\n",
      "352/352 [==============================] - 46s 130ms/step - loss: 0.6933 - accuracy: 0.4893\n",
      "Epoch 2/5\n",
      "352/352 [==============================] - 60s 171ms/step - loss: 0.6933 - accuracy: 0.4896\n",
      "Epoch 3/5\n",
      "352/352 [==============================] - 60s 172ms/step - loss: 0.6933 - accuracy: 0.4899\n",
      "Epoch 4/5\n",
      "352/352 [==============================] - 63s 179ms/step - loss: 0.6932 - accuracy: 0.4952\n",
      "Epoch 5/5\n",
      "352/352 [==============================] - 63s 180ms/step - loss: 0.6932 - accuracy: 0.5001\n"
     ]
    },
    {
     "data": {
      "text/plain": [
       "<tensorflow.python.keras.callbacks.History at 0x7fc4e6265100>"
      ]
     },
     "execution_count": 101,
     "metadata": {},
     "output_type": "execute_result"
    }
   ],
   "source": [
    "model1_lstm1.fit(reviews_train, sentiments_train, batch_size = 128, epochs = 5)"
   ]
  },
  {
   "cell_type": "code",
   "execution_count": 103,
   "metadata": {},
   "outputs": [
    {
     "name": "stdout",
     "output_type": "stream",
     "text": [
      "Epoch 1/5\n",
      "352/352 [==============================] - 47s 130ms/step - loss: 0.5325 - accuracy: 0.7283\n",
      "Epoch 2/5\n",
      "352/352 [==============================] - 65s 184ms/step - loss: 0.2480 - accuracy: 0.9038\n",
      "Epoch 3/5\n",
      "352/352 [==============================] - 67s 191ms/step - loss: 0.2024 - accuracy: 0.9248\n",
      "Epoch 4/5\n",
      "352/352 [==============================] - 66s 188ms/step - loss: 0.1790 - accuracy: 0.9337\n",
      "Epoch 5/5\n",
      "352/352 [==============================] - 66s 188ms/step - loss: 0.1646 - accuracy: 0.9405\n"
     ]
    },
    {
     "data": {
      "text/plain": [
       "<tensorflow.python.keras.callbacks.History at 0x7fc4e5e55490>"
      ]
     },
     "execution_count": 103,
     "metadata": {},
     "output_type": "execute_result"
    }
   ],
   "source": [
    "model2_lstm1.fit(reviews_train, sentiments_train, batch_size = 128, epochs = 5)"
   ]
  },
  {
   "cell_type": "code",
   "execution_count": 104,
   "metadata": {},
   "outputs": [
    {
     "name": "stdout",
     "output_type": "stream",
     "text": [
      "Epoch 1/5\n",
      "352/352 [==============================] - 68s 190ms/step - loss: 0.5127 - accuracy: 0.7117\n",
      "Epoch 2/5\n",
      "352/352 [==============================] - 74s 209ms/step - loss: 0.2000 - accuracy: 0.9255\n",
      "Epoch 3/5\n",
      "352/352 [==============================] - 75s 212ms/step - loss: 0.1334 - accuracy: 0.9531\n",
      "Epoch 4/5\n",
      "352/352 [==============================] - 74s 211ms/step - loss: 0.0843 - accuracy: 0.9717\n",
      "Epoch 5/5\n",
      "352/352 [==============================] - 69s 195ms/step - loss: 0.0699 - accuracy: 0.9757\n"
     ]
    },
    {
     "data": {
      "text/plain": [
       "<tensorflow.python.keras.callbacks.History at 0x7fc4e7fff6a0>"
      ]
     },
     "execution_count": 104,
     "metadata": {},
     "output_type": "execute_result"
    }
   ],
   "source": [
    "model3_lstm1.fit(reviews_train, sentiments_train, batch_size = 128, epochs = 5)"
   ]
  },
  {
   "cell_type": "markdown",
   "metadata": {},
   "source": [
    "#### Calculating Accuracies"
   ]
  },
  {
   "cell_type": "code",
   "execution_count": 105,
   "metadata": {
    "colab": {
     "base_uri": "https://localhost:8080/"
    },
    "id": "VC4IAWCyCfN8",
    "outputId": "15ea921d-c66a-4a0e-8631-b28464114296"
   },
   "outputs": [],
   "source": [
    "result = model1_lstm1.evaluate(reviews_test, sentiments_test, verbose=0)\n",
    "accuracy1_LSTM1 = result[1]*100"
   ]
  },
  {
   "cell_type": "code",
   "execution_count": 106,
   "metadata": {},
   "outputs": [],
   "source": [
    "result = model2_lstm1.evaluate(reviews_test, sentiments_test, verbose=0)\n",
    "accuracy2_LSTM1 = result[1]*100"
   ]
  },
  {
   "cell_type": "code",
   "execution_count": 107,
   "metadata": {},
   "outputs": [],
   "source": [
    "result = model3_lstm1.evaluate(reviews_test, sentiments_test, verbose=0)\n",
    "accuracy3_LSTM1 = result[1]*100"
   ]
  },
  {
   "cell_type": "markdown",
   "metadata": {},
   "source": [
    "### With Dense Layers of LSTM\n",
    "#### SGD optimizer"
   ]
  },
  {
   "cell_type": "code",
   "execution_count": 108,
   "metadata": {},
   "outputs": [
    {
     "name": "stdout",
     "output_type": "stream",
     "text": [
      "Model: \"sequential_38\"\n",
      "_________________________________________________________________\n",
      "Layer (type)                 Output Shape              Param #   \n",
      "=================================================================\n",
      "embedding_38 (Embedding)     (None, 120, 32)           3102528   \n",
      "_________________________________________________________________\n",
      "lstm_5 (LSTM)                (None, 120, 100)          53200     \n",
      "_________________________________________________________________\n",
      "lstm_6 (LSTM)                (None, 120, 100)          80400     \n",
      "_________________________________________________________________\n",
      "dense_27 (Dense)             (None, 120, 1)            101       \n",
      "=================================================================\n",
      "Total params: 3,236,229\n",
      "Trainable params: 3,236,229\n",
      "Non-trainable params: 0\n",
      "_________________________________________________________________\n",
      "None\n"
     ]
    }
   ],
   "source": [
    "model1_lstm2 = Sequential()\n",
    "model1_lstm2.add(Embedding(total_words, embedding_dim, input_length=max_review_length))\n",
    "model1_lstm2.add(LSTM(100, dropout=0.25, return_sequences=True))\n",
    "model1_lstm2.add(LSTM(100, dropout=0.25, return_sequences=True))\n",
    "model1_lstm2.add(Dense(1, activation='sigmoid'))\n",
    "opt = keras.optimizers.SGD()\n",
    "model1_lstm2.compile(loss='binary_crossentropy', optimizer=opt, metrics=['accuracy'])\n",
    "print(model1_lstm2.summary())"
   ]
  },
  {
   "cell_type": "markdown",
   "metadata": {},
   "source": [
    "#### RMSProp Optimizer"
   ]
  },
  {
   "cell_type": "code",
   "execution_count": 111,
   "metadata": {},
   "outputs": [
    {
     "name": "stdout",
     "output_type": "stream",
     "text": [
      "Model: \"sequential_40\"\n",
      "_________________________________________________________________\n",
      "Layer (type)                 Output Shape              Param #   \n",
      "=================================================================\n",
      "embedding_40 (Embedding)     (None, 120, 32)           3102528   \n",
      "_________________________________________________________________\n",
      "lstm_9 (LSTM)                (None, 120, 100)          53200     \n",
      "_________________________________________________________________\n",
      "lstm_10 (LSTM)               (None, 120, 100)          80400     \n",
      "_________________________________________________________________\n",
      "dense_29 (Dense)             (None, 120, 1)            101       \n",
      "=================================================================\n",
      "Total params: 3,236,229\n",
      "Trainable params: 3,236,229\n",
      "Non-trainable params: 0\n",
      "_________________________________________________________________\n",
      "None\n"
     ]
    }
   ],
   "source": [
    "model2_lstm2 = Sequential()\n",
    "model2_lstm2.add(Embedding(total_words, embedding_dim, input_length=max_review_length))\n",
    "model2_lstm2.add(LSTM(100, dropout=0.25, return_sequences=True))\n",
    "model2_lstm2.add(LSTM(100, dropout=0.25, return_sequences=True))\n",
    "model2_lstm2.add(Dense(1, activation='sigmoid'))\n",
    "opt = keras.optimizers.RMSprop()\n",
    "model2_lstm2.compile(loss='binary_crossentropy', optimizer=opt, metrics=['accuracy'])\n",
    "print(model2_lstm2.summary())"
   ]
  },
  {
   "cell_type": "markdown",
   "metadata": {},
   "source": [
    "#### Adam Optimizer"
   ]
  },
  {
   "cell_type": "code",
   "execution_count": 112,
   "metadata": {},
   "outputs": [
    {
     "name": "stdout",
     "output_type": "stream",
     "text": [
      "Model: \"sequential_41\"\n",
      "_________________________________________________________________\n",
      "Layer (type)                 Output Shape              Param #   \n",
      "=================================================================\n",
      "embedding_41 (Embedding)     (None, 120, 32)           3102528   \n",
      "_________________________________________________________________\n",
      "lstm_11 (LSTM)               (None, 120, 100)          53200     \n",
      "_________________________________________________________________\n",
      "lstm_12 (LSTM)               (None, 120, 100)          80400     \n",
      "_________________________________________________________________\n",
      "dense_30 (Dense)             (None, 120, 1)            101       \n",
      "=================================================================\n",
      "Total params: 3,236,229\n",
      "Trainable params: 3,236,229\n",
      "Non-trainable params: 0\n",
      "_________________________________________________________________\n",
      "None\n"
     ]
    }
   ],
   "source": [
    "model3_lstm2 = Sequential()\n",
    "model3_lstm2.add(Embedding(total_words, embedding_dim, input_length=max_review_length))\n",
    "model3_lstm2.add(LSTM(100, dropout=0.25, return_sequences=True))\n",
    "model3_lstm2.add(LSTM(100, dropout=0.25, return_sequences=True))\n",
    "model3_lstm2.add(Dense(1, activation='sigmoid'))\n",
    "opt = keras.optimizers.Adam()\n",
    "model3_lstm2.compile(loss='binary_crossentropy', optimizer=opt, metrics=['accuracy'])\n",
    "print(model3_lstm2.summary())"
   ]
  },
  {
   "cell_type": "markdown",
   "metadata": {},
   "source": [
    "#### Training Models"
   ]
  },
  {
   "cell_type": "code",
   "execution_count": 113,
   "metadata": {},
   "outputs": [
    {
     "name": "stdout",
     "output_type": "stream",
     "text": [
      "Epoch 1/5\n",
      "352/352 [==============================] - 109s 306ms/step - loss: 0.6931 - accuracy: 0.5029\n",
      "Epoch 2/5\n",
      "352/352 [==============================] - 147s 419ms/step - loss: 0.6931 - accuracy: 0.5063\n",
      "Epoch 3/5\n",
      "352/352 [==============================] - 146s 414ms/step - loss: 0.6931 - accuracy: 0.5031\n",
      "Epoch 4/5\n",
      "352/352 [==============================] - 149s 425ms/step - loss: 0.6932 - accuracy: 0.5000\n",
      "Epoch 5/5\n",
      "352/352 [==============================] - 139s 396ms/step - loss: 0.6932 - accuracy: 0.5000\n"
     ]
    },
    {
     "data": {
      "text/plain": [
       "<tensorflow.python.keras.callbacks.History at 0x7fc4acc3c400>"
      ]
     },
     "execution_count": 113,
     "metadata": {},
     "output_type": "execute_result"
    }
   ],
   "source": [
    "model1_lstm2.fit(reviews_train, sentiments_train, batch_size = 128, epochs = 5)"
   ]
  },
  {
   "cell_type": "code",
   "execution_count": 114,
   "metadata": {},
   "outputs": [
    {
     "name": "stdout",
     "output_type": "stream",
     "text": [
      "Epoch 1/5\n",
      "352/352 [==============================] - 123s 343ms/step - loss: 0.6047 - accuracy: 0.6440\n",
      "Epoch 2/5\n",
      "352/352 [==============================] - 135s 382ms/step - loss: 0.4628 - accuracy: 0.7469\n",
      "Epoch 3/5\n",
      "352/352 [==============================] - 133s 378ms/step - loss: 0.4325 - accuracy: 0.7611\n",
      "Epoch 4/5\n",
      "352/352 [==============================] - 139s 394ms/step - loss: 0.4195 - accuracy: 0.7700\n",
      "Epoch 5/5\n",
      "352/352 [==============================] - 131s 373ms/step - loss: 0.4036 - accuracy: 0.7760\n"
     ]
    },
    {
     "data": {
      "text/plain": [
       "<tensorflow.python.keras.callbacks.History at 0x7fc4ac0a6100>"
      ]
     },
     "execution_count": 114,
     "metadata": {},
     "output_type": "execute_result"
    }
   ],
   "source": [
    "model2_lstm2.fit(reviews_train, sentiments_train, batch_size = 128, epochs = 5)"
   ]
  },
  {
   "cell_type": "code",
   "execution_count": 115,
   "metadata": {},
   "outputs": [
    {
     "name": "stdout",
     "output_type": "stream",
     "text": [
      "Epoch 1/5\n",
      "352/352 [==============================] - 111s 311ms/step - loss: 0.5940 - accuracy: 0.6346\n",
      "Epoch 2/5\n",
      "352/352 [==============================] - 128s 363ms/step - loss: 0.4253 - accuracy: 0.7666\n",
      "Epoch 3/5\n",
      "352/352 [==============================] - 132s 376ms/step - loss: 0.3779 - accuracy: 0.7894\n",
      "Epoch 4/5\n",
      "352/352 [==============================] - 141s 400ms/step - loss: 0.3436 - accuracy: 0.8039\n",
      "Epoch 5/5\n",
      "352/352 [==============================] - 110s 314ms/step - loss: 0.3203 - accuracy: 0.8128\n"
     ]
    },
    {
     "data": {
      "text/plain": [
       "<tensorflow.python.keras.callbacks.History at 0x7fc4e635c6a0>"
      ]
     },
     "execution_count": 115,
     "metadata": {},
     "output_type": "execute_result"
    }
   ],
   "source": [
    "model3_lstm2.fit(reviews_train, sentiments_train, batch_size = 128, epochs = 5)"
   ]
  },
  {
   "cell_type": "markdown",
   "metadata": {},
   "source": [
    "#### Calculating Accuracies"
   ]
  },
  {
   "cell_type": "code",
   "execution_count": 116,
   "metadata": {},
   "outputs": [],
   "source": [
    "result = model1_lstm2.evaluate(reviews_test, sentiments_test, verbose=0)\n",
    "accuracy1_LSTM2 = result[1]*100"
   ]
  },
  {
   "cell_type": "code",
   "execution_count": 117,
   "metadata": {},
   "outputs": [],
   "source": [
    "result = model2_lstm2.evaluate(reviews_test, sentiments_test, verbose=0)\n",
    "accuracy2_LSTM2 = result[1]*100"
   ]
  },
  {
   "cell_type": "code",
   "execution_count": 118,
   "metadata": {},
   "outputs": [],
   "source": [
    "result = model3_lstm2.evaluate(reviews_test, sentiments_test, verbose=0)\n",
    "accuracy3_LSTM2 = result[1]*100"
   ]
  },
  {
   "cell_type": "markdown",
   "metadata": {},
   "source": [
    "### Accuracy Table"
   ]
  },
  {
   "cell_type": "code",
   "execution_count": 119,
   "metadata": {},
   "outputs": [
    {
     "name": "stdout",
     "output_type": "stream",
     "text": [
      "+--------+-----------+-------------------+\n",
      "| Layers | Optimizer |      Accuracy     |\n",
      "+--------+-----------+-------------------+\n",
      "|  One   |    SGD    | 63.7826           |\n",
      "|  One   |  RMSProp  | 87.0113           |\n",
      "|  One   |    ADAM   | 87.6042           |\n",
      "|  Two   |    SGD    | 63.7856           |\n",
      "|  Two   |  RMSProp  | 87.6524           |\n",
      "|  Two   |    ADAM   | 87.8034           |\n",
      "+--------+-----------+-------------------+\n"
     ]
    }
   ],
   "source": [
    "from prettytable import PrettyTable \n",
    "\n",
    "myTable = PrettyTable([\"Layers\",\"Optimizer\", \"Accuracy\"]) \n",
    "  \n",
    "myTable.add_row([\"One\",\"SGD\", accuracy1_LSTM1]) \n",
    "myTable.add_row([\"One\",\"RMSProp\", accuracy2_LSTM1]) \n",
    "myTable.add_row([\"One\",\"ADAM\", accuracy3_LSTM1]) \n",
    "myTable.add_row([\"Two\",\"SGD\", accuracy1_LSTM2]) \n",
    "myTable.add_row([\"Two\",\"RMSProp\", accuracy2_LSTM2]) \n",
    "myTable.add_row([\"Two\",\"ADAM\", accuracy3_LSTM2]) \n",
    "  \n",
    "print(myTable)"
   ]
  },
  {
   "cell_type": "markdown",
   "metadata": {},
   "source": [
    "### Accuracy Graph"
   ]
  },
  {
   "cell_type": "code",
   "execution_count": 22,
   "metadata": {},
   "outputs": [
    {
     "data": {
      "image/png": "[encoded data removed]",
      "text/plain": [
       "<Figure size 576x360 with 1 Axes>"
      ]
     },
     "metadata": {
      "needs_background": "light"
     },
     "output_type": "display_data"
    }
   ],
   "source": [
    "y1 = [accuracy1_LSTM1,accuracy2_LSTM1,accuracy3_LSTM1]\n",
    "y2 = [accuracy1_LSTM2,accuracy2_LSTM2,accuracy3_LSTM2]\n",
    "x = [\"SGD\",\"RMSProp\",\"ADAM\"]\n",
    "plt.figure(figsize=(8,5))\n",
    "plt.plot(x,y1,label='Single Layer')\n",
    "plt.plot(x,y2,label='Dense Layer')\n",
    "plt.legend()\n",
    "plt.xlabel(\"Optimizer\")\n",
    "plt.ylabel(\"Accuracy\")\n",
    "plt.show()"
   ]
  },
  {
   "cell_type": "markdown",
   "metadata": {
    "id": "mIJpDg_3Fvpr"
   },
   "source": [
    "# **Bi-LSTM Model**"
   ]
  },
  {
   "cell_type": "markdown",
   "metadata": {},
   "source": [
    "### With Single Layer of BiLSTM\n",
    "#### SGD Optimizer"
   ]
  },
  {
   "cell_type": "code",
   "execution_count": 18,
   "metadata": {
    "colab": {
     "base_uri": "https://localhost:8080/"
    },
    "id": "ioxHfhutCfN9",
    "outputId": "f4972461-1789-4e52-b9e5-01271190d7b6"
   },
   "outputs": [
    {
     "name": "stdout",
     "output_type": "stream",
     "text": [
      "Model: \"sequential_1\"\n",
      "_________________________________________________________________\n",
      "Layer (type)                 Output Shape              Param #   \n",
      "=================================================================\n",
      "embedding (Embedding)        (None, 120, 32)           2799488   \n",
      "_________________________________________________________________\n",
      "bidirectional (Bidirectional (None, 200)               106400    \n",
      "_________________________________________________________________\n",
      "dense (Dense)                (None, 1)                 201       \n",
      "=================================================================\n",
      "Total params: 2,906,089\n",
      "Trainable params: 2,906,089\n",
      "Non-trainable params: 0\n",
      "_________________________________________________________________\n",
      "None\n"
     ]
    }
   ],
   "source": [
    "embedding_dim = 32\n",
    "model1_bilstm1 = Sequential()\n",
    "model1_bilstm1.add(Embedding(total_words, embedding_dim,input_length=max_review_length))\n",
    "model1_bilstm1.add(Bidirectional(LSTM(100, dropout=0.25)))\n",
    "model1_bilstm1.add(Dense(1, activation='sigmoid'))\n",
    "opt = keras.optimizers.SGD()\n",
    "model1_bilstm1.compile(loss='binary_crossentropy', optimizer=opt, metrics=['accuracy'])\n",
    "print(model1_bilstm1.summary())"
   ]
  },
  {
   "cell_type": "markdown",
   "metadata": {},
   "source": [
    "#### RMSProp Optimizer"
   ]
  },
  {
   "cell_type": "code",
   "execution_count": 19,
   "metadata": {},
   "outputs": [
    {
     "name": "stdout",
     "output_type": "stream",
     "text": [
      "Model: \"sequential_2\"\n",
      "_________________________________________________________________\n",
      "Layer (type)                 Output Shape              Param #   \n",
      "=================================================================\n",
      "embedding_1 (Embedding)      (None, 120, 32)           2799488   \n",
      "_________________________________________________________________\n",
      "bidirectional_1 (Bidirection (None, 200)               106400    \n",
      "_________________________________________________________________\n",
      "dense_1 (Dense)              (None, 1)                 201       \n",
      "=================================================================\n",
      "Total params: 2,906,089\n",
      "Trainable params: 2,906,089\n",
      "Non-trainable params: 0\n",
      "_________________________________________________________________\n",
      "None\n"
     ]
    }
   ],
   "source": [
    "model2_bilstm1 = Sequential()\n",
    "model2_bilstm1.add(Embedding(total_words, embedding_dim,input_length=max_review_length))\n",
    "model2_bilstm1.add(Bidirectional(LSTM(100, dropout=0.25)))\n",
    "model2_bilstm1.add(Dense(1, activation='sigmoid'))\n",
    "opt = keras.optimizers.RMSprop()\n",
    "model2_bilstm1.compile(loss='binary_crossentropy', optimizer=opt, metrics=['accuracy'])\n",
    "print(model2_bilstm1.summary())"
   ]
  },
  {
   "cell_type": "markdown",
   "metadata": {},
   "source": [
    "#### Adam Optimizer"
   ]
  },
  {
   "cell_type": "code",
   "execution_count": 20,
   "metadata": {},
   "outputs": [
    {
     "name": "stdout",
     "output_type": "stream",
     "text": [
      "Model: \"sequential_3\"\n",
      "_________________________________________________________________\n",
      "Layer (type)                 Output Shape              Param #   \n",
      "=================================================================\n",
      "embedding_2 (Embedding)      (None, 120, 32)           2799488   \n",
      "_________________________________________________________________\n",
      "bidirectional_2 (Bidirection (None, 200)               106400    \n",
      "_________________________________________________________________\n",
      "dense_2 (Dense)              (None, 1)                 201       \n",
      "=================================================================\n",
      "Total params: 2,906,089\n",
      "Trainable params: 2,906,089\n",
      "Non-trainable params: 0\n",
      "_________________________________________________________________\n",
      "None\n"
     ]
    }
   ],
   "source": [
    "model3_bilstm1 = Sequential()\n",
    "model3_bilstm1.add(Embedding(total_words, embedding_dim,input_length=max_review_length))\n",
    "model3_bilstm1.add(Bidirectional(LSTM(100, dropout=0.25)))\n",
    "model3_bilstm1.add(Dense(1, activation='sigmoid'))\n",
    "opt = keras.optimizers.Adam()\n",
    "model3_bilstm1.compile(loss='binary_crossentropy', optimizer=opt, metrics=['accuracy'])\n",
    "print(model3_bilstm1.summary())"
   ]
  },
  {
   "cell_type": "markdown",
   "metadata": {},
   "source": [
    "#### Training Models"
   ]
  },
  {
   "cell_type": "code",
   "execution_count": 22,
   "metadata": {},
   "outputs": [
    {
     "name": "stdout",
     "output_type": "stream",
     "text": [
      "Epoch 1/5\n",
      "274/274 [==============================] - 38s 137ms/step - loss: 0.6931 - accuracy: 0.5032\n",
      "Epoch 2/5\n",
      "274/274 [==============================] - 43s 158ms/step - loss: 0.6931 - accuracy: 0.5031\n",
      "Epoch 3/5\n",
      "274/274 [==============================] - 44s 160ms/step - loss: 0.6931 - accuracy: 0.5069\n",
      "Epoch 4/5\n",
      "274/274 [==============================] - 44s 162ms/step - loss: 0.6931 - accuracy: 0.5037\n",
      "Epoch 5/5\n",
      "274/274 [==============================] - 45s 163ms/step - loss: 0.6931 - accuracy: 0.5080\n"
     ]
    },
    {
     "data": {
      "text/plain": [
       "<tensorflow.python.keras.callbacks.History at 0x7f887be404f0>"
      ]
     },
     "execution_count": 22,
     "metadata": {},
     "output_type": "execute_result"
    }
   ],
   "source": [
    "model1_bilstm1.fit(reviews_train, sentiments_train, batch_size = 128, epochs = 5)"
   ]
  },
  {
   "cell_type": "code",
   "execution_count": 23,
   "metadata": {},
   "outputs": [
    {
     "name": "stdout",
     "output_type": "stream",
     "text": [
      "Epoch 1/5\n",
      "274/274 [==============================] - 41s 143ms/step - loss: 0.5685 - accuracy: 0.6919\n",
      "Epoch 2/5\n",
      "274/274 [==============================] - 45s 164ms/step - loss: 0.2719 - accuracy: 0.8908\n",
      "Epoch 3/5\n",
      "274/274 [==============================] - 47s 170ms/step - loss: 0.2025 - accuracy: 0.9256\n",
      "Epoch 4/5\n",
      "274/274 [==============================] - 45s 163ms/step - loss: 0.1704 - accuracy: 0.9377\n",
      "Epoch 5/5\n",
      "274/274 [==============================] - 45s 166ms/step - loss: 0.1544 - accuracy: 0.9444\n"
     ]
    },
    {
     "data": {
      "text/plain": [
       "<tensorflow.python.keras.callbacks.History at 0x7f887bdf02e0>"
      ]
     },
     "execution_count": 23,
     "metadata": {},
     "output_type": "execute_result"
    }
   ],
   "source": [
    "model2_bilstm1.fit(reviews_train, sentiments_train, batch_size = 128, epochs = 5)"
   ]
  },
  {
   "cell_type": "code",
   "execution_count": 24,
   "metadata": {
    "colab": {
     "base_uri": "https://localhost:8080/"
    },
    "id": "TSDOmqRnCfN-",
    "outputId": "feeba07b-9fea-48bd-e812-ca327b0e4457"
   },
   "outputs": [
    {
     "name": "stdout",
     "output_type": "stream",
     "text": [
      "Epoch 1/5\n",
      "274/274 [==============================] - 45s 158ms/step - loss: 0.5582 - accuracy: 0.6756\n",
      "Epoch 2/5\n",
      "274/274 [==============================] - 47s 173ms/step - loss: 0.1998 - accuracy: 0.9279\n",
      "Epoch 3/5\n",
      "274/274 [==============================] - 48s 174ms/step - loss: 0.1224 - accuracy: 0.9570\n",
      "Epoch 4/5\n",
      "274/274 [==============================] - 48s 175ms/step - loss: 0.0863 - accuracy: 0.9719\n",
      "Epoch 5/5\n",
      "274/274 [==============================] - 49s 178ms/step - loss: 0.0573 - accuracy: 0.9809\n"
     ]
    },
    {
     "data": {
      "text/plain": [
       "<tensorflow.python.keras.callbacks.History at 0x7f88782da1c0>"
      ]
     },
     "execution_count": 24,
     "metadata": {},
     "output_type": "execute_result"
    }
   ],
   "source": [
    "model3_bilstm1.fit(reviews_train, sentiments_train, batch_size = 128, epochs = 5)"
   ]
  },
  {
   "cell_type": "markdown",
   "metadata": {},
   "source": [
    "#### Calculating Accuracies"
   ]
  },
  {
   "cell_type": "code",
   "execution_count": 25,
   "metadata": {
    "colab": {
     "base_uri": "https://localhost:8080/"
    },
    "id": "NMNYhjtcCfN-",
    "outputId": "7624fdcb-5061-4344-e484-5bd212568476"
   },
   "outputs": [],
   "source": [
    "result = model1_bilstm1.evaluate(reviews_test, sentiments_test, verbose=0)\n",
    "accuracy1_BiLSTM1 = result[1]*100"
   ]
  },
  {
   "cell_type": "code",
   "execution_count": 26,
   "metadata": {},
   "outputs": [],
   "source": [
    "result = model2_bilstm1.evaluate(reviews_test, sentiments_test, verbose=0)\n",
    "accuracy2_BiLSTM1 = result[1]*100"
   ]
  },
  {
   "cell_type": "code",
   "execution_count": 27,
   "metadata": {},
   "outputs": [],
   "source": [
    "result = model3_bilstm1.evaluate(reviews_test, sentiments_test, verbose=0)\n",
    "accuracy3_BiLSTM1 = result[1]*100"
   ]
  },
  {
   "cell_type": "markdown",
   "metadata": {},
   "source": [
    "### With Dense Layers of BiLSTM\n",
    "#### SGD Optimizer"
   ]
  },
  {
   "cell_type": "code",
   "execution_count": 28,
   "metadata": {},
   "outputs": [
    {
     "name": "stdout",
     "output_type": "stream",
     "text": [
      "Model: \"sequential_4\"\n",
      "_________________________________________________________________\n",
      "Layer (type)                 Output Shape              Param #   \n",
      "=================================================================\n",
      "embedding_3 (Embedding)      (None, 120, 32)           2799488   \n",
      "_________________________________________________________________\n",
      "bidirectional_3 (Bidirection (None, 120, 200)          106400    \n",
      "_________________________________________________________________\n",
      "bidirectional_4 (Bidirection (None, 120, 200)          240800    \n",
      "_________________________________________________________________\n",
      "dense_3 (Dense)              (None, 120, 1)            201       \n",
      "=================================================================\n",
      "Total params: 3,146,889\n",
      "Trainable params: 3,146,889\n",
      "Non-trainable params: 0\n",
      "_________________________________________________________________\n",
      "None\n"
     ]
    }
   ],
   "source": [
    "model1_bilstm2 = Sequential()\n",
    "model1_bilstm2.add(Embedding(total_words, embedding_dim,input_length=max_review_length))\n",
    "model1_bilstm2.add(Bidirectional(LSTM(100, return_sequences=True, dropout=0.25), input_shape=(max_review_length, )))\n",
    "model1_bilstm2.add(Bidirectional(LSTM(100, return_sequences=True, dropout=0.25), input_shape=(max_review_length, )))\n",
    "model1_bilstm2.add(Dense(1, activation='sigmoid'))\n",
    "opt = keras.optimizers.SGD()\n",
    "model1_bilstm2.compile(loss='binary_crossentropy', optimizer=opt, metrics=['accuracy'])\n",
    "print(model1_bilstm2.summary())"
   ]
  },
  {
   "cell_type": "markdown",
   "metadata": {},
   "source": [
    "#### RMSProp Optimizer"
   ]
  },
  {
   "cell_type": "code",
   "execution_count": 29,
   "metadata": {},
   "outputs": [
    {
     "name": "stdout",
     "output_type": "stream",
     "text": [
      "Model: \"sequential_5\"\n",
      "_________________________________________________________________\n",
      "Layer (type)                 Output Shape              Param #   \n",
      "=================================================================\n",
      "embedding_4 (Embedding)      (None, 120, 32)           2799488   \n",
      "_________________________________________________________________\n",
      "bidirectional_5 (Bidirection (None, 120, 200)          106400    \n",
      "_________________________________________________________________\n",
      "bidirectional_6 (Bidirection (None, 120, 200)          240800    \n",
      "_________________________________________________________________\n",
      "dense_4 (Dense)              (None, 120, 1)            201       \n",
      "=================================================================\n",
      "Total params: 3,146,889\n",
      "Trainable params: 3,146,889\n",
      "Non-trainable params: 0\n",
      "_________________________________________________________________\n",
      "None\n"
     ]
    }
   ],
   "source": [
    "model2_bilstm2 = Sequential()\n",
    "model2_bilstm2.add(Embedding(total_words, embedding_dim,input_length=max_review_length))\n",
    "model2_bilstm2.add(Bidirectional(LSTM(100, return_sequences=True, dropout=0.25), input_shape=(max_review_length, )))\n",
    "model2_bilstm2.add(Bidirectional(LSTM(100, return_sequences=True, dropout=0.25), input_shape=(max_review_length, )))\n",
    "model2_bilstm2.add(Dense(1, activation='sigmoid'))\n",
    "opt = keras.optimizers.RMSprop()\n",
    "model2_bilstm2.compile(loss='binary_crossentropy', optimizer=opt, metrics=['accuracy'])\n",
    "print(model2_bilstm2.summary())"
   ]
  },
  {
   "cell_type": "markdown",
   "metadata": {},
   "source": [
    "#### Adam Optimizer"
   ]
  },
  {
   "cell_type": "code",
   "execution_count": 36,
   "metadata": {},
   "outputs": [
    {
     "name": "stdout",
     "output_type": "stream",
     "text": [
      "Model: \"sequential_8\"\n",
      "_________________________________________________________________\n",
      "Layer (type)                 Output Shape              Param #   \n",
      "=================================================================\n",
      "embedding_7 (Embedding)      (None, 120, 32)           2799488   \n",
      "_________________________________________________________________\n",
      "bidirectional_11 (Bidirectio (None, 120, 200)          106400    \n",
      "_________________________________________________________________\n",
      "bidirectional_12 (Bidirectio (None, 120, 200)          240800    \n",
      "_________________________________________________________________\n",
      "dense_7 (Dense)              (None, 120, 1)            201       \n",
      "=================================================================\n",
      "Total params: 3,146,889\n",
      "Trainable params: 3,146,889\n",
      "Non-trainable params: 0\n",
      "_________________________________________________________________\n",
      "None\n"
     ]
    }
   ],
   "source": [
    "model3_bilstm2 = Sequential()\n",
    "model3_bilstm2.add(Embedding(total_words, embedding_dim,input_length=max_review_length))\n",
    "model3_bilstm2.add(Bidirectional(LSTM(100, return_sequences=True, dropout=0.25), input_shape=(max_review_length, )))\n",
    "model3_bilstm2.add(Bidirectional(LSTM(100, return_sequences=True, dropout=0.25), input_shape=(max_review_length, )))\n",
    "model3_bilstm2.add(Dense(1, activation='sigmoid'))\n",
    "opt = keras.optimizers.Adam()\n",
    "model3_bilstm2.compile(loss='binary_crossentropy', optimizer=opt, metrics=['accuracy'])\n",
    "print(model3_bilstm2.summary())"
   ]
  },
  {
   "cell_type": "markdown",
   "metadata": {},
   "source": [
    "#### Training Models"
   ]
  },
  {
   "cell_type": "code",
   "execution_count": 31,
   "metadata": {},
   "outputs": [
    {
     "name": "stdout",
     "output_type": "stream",
     "text": [
      "Epoch 1/5\n",
      "274/274 [==============================] - 118s 421ms/step - loss: 0.6931 - accuracy: 0.5029\n",
      "Epoch 2/5\n",
      "274/274 [==============================] - 123s 451ms/step - loss: 0.6931 - accuracy: 0.5044\n",
      "Epoch 3/5\n",
      "274/274 [==============================] - 129s 471ms/step - loss: 0.6931 - accuracy: 0.5027\n",
      "Epoch 4/5\n",
      "274/274 [==============================] - 136s 496ms/step - loss: 0.6931 - accuracy: 0.5041\n",
      "Epoch 5/5\n",
      "274/274 [==============================] - 126s 459ms/step - loss: 0.6931 - accuracy: 0.5027\n"
     ]
    },
    {
     "data": {
      "text/plain": [
       "<tensorflow.python.keras.callbacks.History at 0x7f884838ab80>"
      ]
     },
     "execution_count": 31,
     "metadata": {},
     "output_type": "execute_result"
    }
   ],
   "source": [
    "model1_bilstm2.fit(reviews_train, sentiments_train, batch_size = 128, epochs = 5)"
   ]
  },
  {
   "cell_type": "code",
   "execution_count": 32,
   "metadata": {},
   "outputs": [
    {
     "name": "stdout",
     "output_type": "stream",
     "text": [
      "Epoch 1/5\n",
      "274/274 [==============================] - 118s 419ms/step - loss: 0.5162 - accuracy: 0.7272\n",
      "Epoch 2/5\n",
      "274/274 [==============================] - 123s 450ms/step - loss: 0.2473 - accuracy: 0.9083\n",
      "Epoch 3/5\n",
      "274/274 [==============================] - 128s 466ms/step - loss: 0.1895 - accuracy: 0.9312\n",
      "Epoch 4/5\n",
      "274/274 [==============================] - 132s 483ms/step - loss: 0.1560 - accuracy: 0.9444\n",
      "Epoch 5/5\n",
      "274/274 [==============================] - 131s 479ms/step - loss: 0.1372 - accuracy: 0.9514\n"
     ]
    },
    {
     "data": {
      "text/plain": [
       "<tensorflow.python.keras.callbacks.History at 0x7f8824323550>"
      ]
     },
     "execution_count": 32,
     "metadata": {},
     "output_type": "execute_result"
    }
   ],
   "source": [
    "model2_bilstm2.fit(reviews_train, sentiments_train, batch_size = 128, epochs = 5)"
   ]
  },
  {
   "cell_type": "code",
   "execution_count": 37,
   "metadata": {},
   "outputs": [
    {
     "name": "stdout",
     "output_type": "stream",
     "text": [
      "Epoch 1/5\n",
      "274/274 [==============================] - 123s 437ms/step - loss: 0.4925 - accuracy: 0.7349\n",
      "Epoch 2/5\n",
      "274/274 [==============================] - 127s 465ms/step - loss: 0.1880 - accuracy: 0.9346\n",
      "Epoch 3/5\n",
      "274/274 [==============================] - 129s 469ms/step - loss: 0.1544 - accuracy: 0.9479\n",
      "Epoch 4/5\n",
      "274/274 [==============================] - 130s 474ms/step - loss: 0.0980 - accuracy: 0.9683\n",
      "Epoch 5/5\n",
      "274/274 [==============================] - 131s 477ms/step - loss: 0.2772 - accuracy: 0.8954\n"
     ]
    },
    {
     "data": {
      "text/plain": [
       "<tensorflow.python.keras.callbacks.History at 0x7f87febf21c0>"
      ]
     },
     "execution_count": 37,
     "metadata": {},
     "output_type": "execute_result"
    }
   ],
   "source": [
    "model3_bilstm2.fit(reviews_train, sentiments_train, batch_size = 128, epochs = 5)"
   ]
  },
  {
   "cell_type": "markdown",
   "metadata": {},
   "source": [
    "#### Calculating Accuracies"
   ]
  },
  {
   "cell_type": "code",
   "execution_count": 38,
   "metadata": {},
   "outputs": [],
   "source": [
    "result = model1_bilstm2.evaluate(reviews_test, sentiments_test, verbose=0)\n",
    "accuracy1_BiLSTM2 = result[1]*100"
   ]
  },
  {
   "cell_type": "code",
   "execution_count": 39,
   "metadata": {},
   "outputs": [],
   "source": [
    "result = model2_bilstm2.evaluate(reviews_test, sentiments_test, verbose=0)\n",
    "accuracy2_BiLSTM2 = result[1]*100"
   ]
  },
  {
   "cell_type": "code",
   "execution_count": 40,
   "metadata": {},
   "outputs": [],
   "source": [
    "result = model3_bilstm2.evaluate(reviews_test, sentiments_test, verbose=0)\n",
    "accuracy3_BiLSTM2 = result[1]*100"
   ]
  },
  {
   "cell_type": "markdown",
   "metadata": {},
   "source": [
    "### Accuracy Table"
   ]
  },
  {
   "cell_type": "code",
   "execution_count": 41,
   "metadata": {},
   "outputs": [
    {
     "name": "stdout",
     "output_type": "stream",
     "text": [
      "+--------+-----------+--------------------+\n",
      "| Layers | Optimizer |      Accuracy      |\n",
      "+--------+-----------+--------------------+\n",
      "|  One   |    SGD    | 64.2211            |\n",
      "|  One   |  RMSProp  | 89.6552            |\n",
      "|  One   |    ADAM   | 89.8914            |\n",
      "|  Two   |    SGD    | 64.3144            |\n",
      "|  Two   |  RMSProp  | 89.6732            |\n",
      "|  Two   |    ADAM   | 90.0133            |\n",
      "+--------+-----------+--------------------+\n"
     ]
    }
   ],
   "source": [
    "from prettytable import PrettyTable \n",
    "\n",
    "myTable = PrettyTable([\"Layers\",\"Optimizer\", \"Accuracy\"]) \n",
    "  \n",
    "myTable.add_row([\"One\",\"SGD\", accuracy1_BiLSTM1]) \n",
    "myTable.add_row([\"One\",\"RMSProp\", accuracy2_BiLSTM1]) \n",
    "myTable.add_row([\"One\",\"ADAM\", accuracy3_BiLSTM1]) \n",
    "myTable.add_row([\"Two\",\"SGD\", accuracy1_BiLSTM2]) \n",
    "myTable.add_row([\"Two\",\"RMSProp\", accuracy2_BiLSTM2]) \n",
    "myTable.add_row([\"Two\",\"ADAM\", accuracy3_BiLSTM2]) \n",
    "  \n",
    "print(myTable)"
   ]
  },
  {
   "cell_type": "markdown",
   "metadata": {},
   "source": [
    "### Accuracy Graph"
   ]
  },
  {
   "cell_type": "code",
   "execution_count": 21,
   "metadata": {},
   "outputs": [
    {
     "data": {
      "image/png": "[encoded data removed]",
      "text/plain": [
       "<Figure size 576x360 with 1 Axes>"
      ]
     },
     "metadata": {
      "needs_background": "light"
     },
     "output_type": "display_data"
    }
   ],
   "source": [
    "y1 = [accuracy1_BiLSTM1,accuracy2_BiLSTM1,accuracy3_BiLSTM1]\n",
    "y2 = [accuracy1_BiLSTM2,accuracy2_BiLSTM2,accuracy3_BiLSTM2]\n",
    "x = [\"SGD\",\"RMSProp\",\"ADAM\"]\n",
    "plt.figure(figsize=(8,5))\n",
    "plt.plot(x,y1,label='Single Layer')\n",
    "plt.plot(x,y2,label='Dense Layer')\n",
    "plt.legend()\n",
    "plt.xlabel(\"Optimizer\")\n",
    "plt.ylabel(\"Accuracy\")\n",
    "plt.show()"
   ]
  },
  {
   "cell_type": "markdown",
   "metadata": {
    "id": "xVCq-yEFHmR3"
   },
   "source": [
    "# **Results and Analysis**\n",
    "### Comparing RNN, LSTM, BiLSTM (best accuracies)"
   ]
  },
  {
   "cell_type": "code",
   "execution_count": 25,
   "metadata": {},
   "outputs": [
    {
     "data": {
      "image/png": "[encoded data removed]",
      "text/plain": [
       "<Figure size 576x360 with 1 Axes>"
      ]
     },
     "metadata": {
      "needs_background": "light"
     },
     "output_type": "display_data"
    }
   ],
   "source": [
    "y1 = [accuracy3_RNN1,accuracy3_LSTM1,accuracy3_BiLSTM1]\n",
    "y2 = [accuracy3_RNN2,accuracy3_LSTM2,accuracy3_BiLSTM2]\n",
    "x = [\"RNN\",\"LSTM\",\"BiLSTM\"]\n",
    "plt.figure(figsize=(8,5))\n",
    "plt.plot(x,y1,label='Single Layer')\n",
    "plt.plot(x,y2,label='Dense Layer')\n",
    "plt.legend()\n",
    "plt.xlabel(\"Model\")\n",
    "plt.ylabel(\"Accuracy\")\n",
    "plt.show()"
   ]
  },
  {
   "cell_type": "markdown",
   "metadata": {},
   "source": [
    "# **Loading Amazon Food Reviews Dataset**"
   ]
  },
  {
   "cell_type": "code",
   "execution_count": 28,
   "metadata": {},
   "outputs": [
    {
     "name": "stdout",
     "output_type": "stream",
     "text": [
      "(568454, 10)\n"
     ]
    },
    {
     "data": {
      "text/html": [
       "<div>\n",
       "<style scoped>\n",
       "    .dataframe tbody tr th:only-of-type {\n",
       "        vertical-align: middle;\n",
       "    }\n",
       "\n",
       "    .dataframe tbody tr th {\n",
       "        vertical-align: top;\n",
       "    }\n",
       "\n",
       "    .dataframe thead th {\n",
       "        text-align: right;\n",
       "    }\n",
       "</style>\n",
       "<table border=\"1\" class=\"dataframe\">\n",
       "  <thead>\n",
       "    <tr style=\"text-align: right;\">\n",
       "      <th></th>\n",
       "      <th>Id</th>\n",
       "      <th>ProductId</th>\n",
       "      <th>UserId</th>\n",
       "      <th>ProfileName</th>\n",
       "      <th>HelpfulnessNumerator</th>\n",
       "      <th>HelpfulnessDenominator</th>\n",
       "      <th>Score</th>\n",
       "      <th>Time</th>\n",
       "      <th>Summary</th>\n",
       "      <th>Text</th>\n",
       "    </tr>\n",
       "  </thead>\n",
       "  <tbody>\n",
       "    <tr>\n",
       "      <th>0</th>\n",
       "      <td>1</td>\n",
       "      <td>B001E4KFG0</td>\n",
       "      <td>A3SGXH7AUHU8GW</td>\n",
       "      <td>delmartian</td>\n",
       "      <td>1</td>\n",
       "      <td>1</td>\n",
       "      <td>5</td>\n",
       "      <td>1303862400</td>\n",
       "      <td>Good Quality Dog Food</td>\n",
       "      <td>I have bought several of the Vitality canned d...</td>\n",
       "    </tr>\n",
       "    <tr>\n",
       "      <th>1</th>\n",
       "      <td>2</td>\n",
       "      <td>B00813GRG4</td>\n",
       "      <td>A1D87F6ZCVE5NK</td>\n",
       "      <td>dll pa</td>\n",
       "      <td>0</td>\n",
       "      <td>0</td>\n",
       "      <td>1</td>\n",
       "      <td>1346976000</td>\n",
       "      <td>Not as Advertised</td>\n",
       "      <td>Product arrived labeled as Jumbo Salted Peanut...</td>\n",
       "    </tr>\n",
       "    <tr>\n",
       "      <th>2</th>\n",
       "      <td>3</td>\n",
       "      <td>B000LQOCH0</td>\n",
       "      <td>ABXLMWJIXXAIN</td>\n",
       "      <td>Natalia Corres \"Natalia Corres\"</td>\n",
       "      <td>1</td>\n",
       "      <td>1</td>\n",
       "      <td>4</td>\n",
       "      <td>1219017600</td>\n",
       "      <td>\"Delight\" says it all</td>\n",
       "      <td>This is a confection that has been around a fe...</td>\n",
       "    </tr>\n",
       "    <tr>\n",
       "      <th>3</th>\n",
       "      <td>4</td>\n",
       "      <td>B000UA0QIQ</td>\n",
       "      <td>A395BORC6FGVXV</td>\n",
       "      <td>Karl</td>\n",
       "      <td>3</td>\n",
       "      <td>3</td>\n",
       "      <td>2</td>\n",
       "      <td>1307923200</td>\n",
       "      <td>Cough Medicine</td>\n",
       "      <td>If you are looking for the secret ingredient i...</td>\n",
       "    </tr>\n",
       "    <tr>\n",
       "      <th>4</th>\n",
       "      <td>5</td>\n",
       "      <td>B006K2ZZ7K</td>\n",
       "      <td>A1UQRSCLF8GW1T</td>\n",
       "      <td>Michael D. Bigham \"M. Wassir\"</td>\n",
       "      <td>0</td>\n",
       "      <td>0</td>\n",
       "      <td>5</td>\n",
       "      <td>1350777600</td>\n",
       "      <td>Great taffy</td>\n",
       "      <td>Great taffy at a great price.  There was a wid...</td>\n",
       "    </tr>\n",
       "    <tr>\n",
       "      <th>...</th>\n",
       "      <td>...</td>\n",
       "      <td>...</td>\n",
       "      <td>...</td>\n",
       "      <td>...</td>\n",
       "      <td>...</td>\n",
       "      <td>...</td>\n",
       "      <td>...</td>\n",
       "      <td>...</td>\n",
       "      <td>...</td>\n",
       "      <td>...</td>\n",
       "    </tr>\n",
       "    <tr>\n",
       "      <th>568449</th>\n",
       "      <td>568450</td>\n",
       "      <td>B001EO7N10</td>\n",
       "      <td>A28KG5XORO54AY</td>\n",
       "      <td>Lettie D. Carter</td>\n",
       "      <td>0</td>\n",
       "      <td>0</td>\n",
       "      <td>5</td>\n",
       "      <td>1299628800</td>\n",
       "      <td>Will not do without</td>\n",
       "      <td>Great for sesame chicken..this is a good if no...</td>\n",
       "    </tr>\n",
       "    <tr>\n",
       "      <th>568450</th>\n",
       "      <td>568451</td>\n",
       "      <td>B003S1WTCU</td>\n",
       "      <td>A3I8AFVPEE8KI5</td>\n",
       "      <td>R. Sawyer</td>\n",
       "      <td>0</td>\n",
       "      <td>0</td>\n",
       "      <td>2</td>\n",
       "      <td>1331251200</td>\n",
       "      <td>disappointed</td>\n",
       "      <td>I'm disappointed with the flavor. The chocolat...</td>\n",
       "    </tr>\n",
       "    <tr>\n",
       "      <th>568451</th>\n",
       "      <td>568452</td>\n",
       "      <td>B004I613EE</td>\n",
       "      <td>A121AA1GQV751Z</td>\n",
       "      <td>pksd \"pk_007\"</td>\n",
       "      <td>2</td>\n",
       "      <td>2</td>\n",
       "      <td>5</td>\n",
       "      <td>1329782400</td>\n",
       "      <td>Perfect for our maltipoo</td>\n",
       "      <td>These stars are small, so you can give 10-15 o...</td>\n",
       "    </tr>\n",
       "    <tr>\n",
       "      <th>568452</th>\n",
       "      <td>568453</td>\n",
       "      <td>B004I613EE</td>\n",
       "      <td>A3IBEVCTXKNOH</td>\n",
       "      <td>Kathy A. Welch \"katwel\"</td>\n",
       "      <td>1</td>\n",
       "      <td>1</td>\n",
       "      <td>5</td>\n",
       "      <td>1331596800</td>\n",
       "      <td>Favorite Training and reward treat</td>\n",
       "      <td>These are the BEST treats for training and rew...</td>\n",
       "    </tr>\n",
       "    <tr>\n",
       "      <th>568453</th>\n",
       "      <td>568454</td>\n",
       "      <td>B001LR2CU2</td>\n",
       "      <td>A3LGQPJCZVL9UC</td>\n",
       "      <td>srfell17</td>\n",
       "      <td>0</td>\n",
       "      <td>0</td>\n",
       "      <td>5</td>\n",
       "      <td>1338422400</td>\n",
       "      <td>Great Honey</td>\n",
       "      <td>I am very satisfied ,product is as advertised,...</td>\n",
       "    </tr>\n",
       "  </tbody>\n",
       "</table>\n",
       "<p>568454 rows × 10 columns</p>\n",
       "</div>"
      ],
      "text/plain": [
       "            Id   ProductId          UserId                      ProfileName  \\\n",
       "0            1  B001E4KFG0  A3SGXH7AUHU8GW                       delmartian   \n",
       "1            2  B00813GRG4  A1D87F6ZCVE5NK                           dll pa   \n",
       "2            3  B000LQOCH0   ABXLMWJIXXAIN  Natalia Corres \"Natalia Corres\"   \n",
       "3            4  B000UA0QIQ  A395BORC6FGVXV                             Karl   \n",
       "4            5  B006K2ZZ7K  A1UQRSCLF8GW1T    Michael D. Bigham \"M. Wassir\"   \n",
       "...        ...         ...             ...                              ...   \n",
       "568449  568450  B001EO7N10  A28KG5XORO54AY                 Lettie D. Carter   \n",
       "568450  568451  B003S1WTCU  A3I8AFVPEE8KI5                        R. Sawyer   \n",
       "568451  568452  B004I613EE  A121AA1GQV751Z                    pksd \"pk_007\"   \n",
       "568452  568453  B004I613EE   A3IBEVCTXKNOH          Kathy A. Welch \"katwel\"   \n",
       "568453  568454  B001LR2CU2  A3LGQPJCZVL9UC                         srfell17   \n",
       "\n",
       "        HelpfulnessNumerator  HelpfulnessDenominator  Score        Time  \\\n",
       "0                          1                       1      5  1303862400   \n",
       "1                          0                       0      1  1346976000   \n",
       "2                          1                       1      4  1219017600   \n",
       "3                          3                       3      2  1307923200   \n",
       "4                          0                       0      5  1350777600   \n",
       "...                      ...                     ...    ...         ...   \n",
       "568449                     0                       0      5  1299628800   \n",
       "568450                     0                       0      2  1331251200   \n",
       "568451                     2                       2      5  1329782400   \n",
       "568452                     1                       1      5  1331596800   \n",
       "568453                     0                       0      5  1338422400   \n",
       "\n",
       "                                   Summary  \\\n",
       "0                    Good Quality Dog Food   \n",
       "1                        Not as Advertised   \n",
       "2                    \"Delight\" says it all   \n",
       "3                           Cough Medicine   \n",
       "4                              Great taffy   \n",
       "...                                    ...   \n",
       "568449                 Will not do without   \n",
       "568450                        disappointed   \n",
       "568451            Perfect for our maltipoo   \n",
       "568452  Favorite Training and reward treat   \n",
       "568453                         Great Honey   \n",
       "\n",
       "                                                     Text  \n",
       "0       I have bought several of the Vitality canned d...  \n",
       "1       Product arrived labeled as Jumbo Salted Peanut...  \n",
       "2       This is a confection that has been around a fe...  \n",
       "3       If you are looking for the secret ingredient i...  \n",
       "4       Great taffy at a great price.  There was a wid...  \n",
       "...                                                   ...  \n",
       "568449  Great for sesame chicken..this is a good if no...  \n",
       "568450  I'm disappointed with the flavor. The chocolat...  \n",
       "568451  These stars are small, so you can give 10-15 o...  \n",
       "568452  These are the BEST treats for training and rew...  \n",
       "568453  I am very satisfied ,product is as advertised,...  \n",
       "\n",
       "[568454 rows x 10 columns]"
      ]
     },
     "execution_count": 28,
     "metadata": {},
     "output_type": "execute_result"
    }
   ],
   "source": [
    "data2=pd.read_csv('Reviews.csv')\n",
    "print(data2.shape)\n",
    "data2"
   ]
  },
  {
   "cell_type": "markdown",
   "metadata": {},
   "source": [
    "# Preprocessing Data"
   ]
  },
  {
   "cell_type": "code",
   "execution_count": 29,
   "metadata": {},
   "outputs": [
    {
     "data": {
      "text/plain": [
       "0         [I, bought, several, Vitality, canned, dog, fo...\n",
       "1         [Product, arrived, labeled, Jumbo, Salted, Pea...\n",
       "2         [This, confection, around, centuries, It, ligh...\n",
       "3         [If, looking, secret, ingredient, Robitussin, ...\n",
       "4         [Great, taffy, great, price, There, wide, asso...\n",
       "                                ...                        \n",
       "568449    [Great, sesame, chicken, good, better, restura...\n",
       "568450    [I, disappointed, flavor, The, chocolate, note...\n",
       "568451    [These, stars, small, give, one, training, ses...\n",
       "568452    [These, BEST, treats, training, rewarding, dog...\n",
       "568453    [I, satisfied, product, advertised, I, use, ce...\n",
       "Name: Text, Length: 568454, dtype: object"
      ]
     },
     "execution_count": 29,
     "metadata": {},
     "output_type": "execute_result"
    }
   ],
   "source": [
    "reviews = data2['Text']\n",
    "sentiments = data2['Score']\n",
    "\n",
    "reviews = reviews.replace({'<.*?>': ''}, regex = True)        \n",
    "reviews  = reviews.replace({'[^A-Za-z]': ' '}, regex = True) \n",
    "stop_words = set(stopwords.words('english'))\n",
    "reviews = reviews.apply(lambda review: [word for word in review.split() if word not in stop_words])\n",
    "reviews"
   ]
  },
  {
   "cell_type": "markdown",
   "metadata": {},
   "source": [
    "# Finding Max Length Review"
   ]
  },
  {
   "cell_type": "code",
   "execution_count": 30,
   "metadata": {},
   "outputs": [
    {
     "data": {
      "text/plain": [
       "34"
      ]
     },
     "execution_count": 30,
     "metadata": {},
     "output_type": "execute_result"
    }
   ],
   "source": [
    "len(reviews.max())"
   ]
  },
  {
   "cell_type": "code",
   "execution_count": 31,
   "metadata": {},
   "outputs": [
    {
     "data": {
      "text/plain": [
       "0         5\n",
       "1         1\n",
       "2         4\n",
       "3         2\n",
       "4         5\n",
       "         ..\n",
       "568449    5\n",
       "568450    2\n",
       "568451    5\n",
       "568452    5\n",
       "568453    5\n",
       "Name: Score, Length: 568454, dtype: int64"
      ]
     },
     "execution_count": 31,
     "metadata": {},
     "output_type": "execute_result"
    }
   ],
   "source": []
  },
  {
   "cell_type": "markdown",
   "metadata": {},
   "source": [
    "# Tokenization and Splitting Data into Train and Test"
   ]
  },
  {
   "cell_type": "code",
   "execution_count": 32,
   "metadata": {},
   "outputs": [
    {
     "data": {
      "text/plain": [
       "array([ 150,  654, 1301,    7,    4,  311,  484,   55, 1159,   13,    3,\n",
       "        150,  104,  870,   66, 2539, 6561, 3130,  542, 2469, 3069, 1292,\n",
       "       2898,   12, 7009,   12, 2544,   12, 2544,  231,  348,  697,  348,\n",
       "        525,  449], dtype=int32)"
      ]
     },
     "execution_count": 32,
     "metadata": {},
     "output_type": "execute_result"
    }
   ],
   "source": [
    "reviews_train, reviews_test, sentiments_train, sentiments_test = train_test_split(reviews , sentiments, test_size = 0.3)\n",
    "token = Tokenizer(lower=True)  \n",
    "token.fit_on_texts(reviews_train)\n",
    "reviews_train = token.texts_to_sequences(reviews_train)\n",
    "reviews_test = token.texts_to_sequences(reviews_test)\n",
    "max_review_length = 35\n",
    "reviews_train = pad_sequences(reviews_train, maxlen=max_review_length)\n",
    "reviews_test = pad_sequences(reviews_test, maxlen=max_review_length)\n",
    "total_words = len(token.word_index) + 1\n",
    "reviews_train[1]"
   ]
  },
  {
   "cell_type": "markdown",
   "metadata": {},
   "source": [
    "# RNN\n",
    "### Model Definition"
   ]
  },
  {
   "cell_type": "code",
   "execution_count": 35,
   "metadata": {},
   "outputs": [
    {
     "name": "stdout",
     "output_type": "stream",
     "text": [
      "Model: \"sequential_1\"\n",
      "_________________________________________________________________\n",
      "Layer (type)                 Output Shape              Param #   \n",
      "=================================================================\n",
      "embedding_1 (Embedding)      (None, 35, 32)            3397824   \n",
      "_________________________________________________________________\n",
      "simple_rnn_1 (SimpleRNN)     (None, 100)               13300     \n",
      "_________________________________________________________________\n",
      "dense_1 (Dense)              (None, 1)                 101       \n",
      "=================================================================\n",
      "Total params: 3,411,225\n",
      "Trainable params: 3,411,225\n",
      "Non-trainable params: 0\n",
      "_________________________________________________________________\n",
      "None\n"
     ]
    }
   ],
   "source": [
    "embedding_dim = 32\n",
    "model_rnn = Sequential()\n",
    "model_rnn.add(Embedding(total_words, embedding_dim, input_length=max_review_length))\n",
    "model_rnn.add(SimpleRNN(100, dropout=0.25))\n",
    "model_rnn.add(Dense(1, activation='softmax'))\n",
    "opt = keras.optimizers.Adam()\n",
    "model_rnn.compile(loss='categorical_crossentropy', optimizer=opt, metrics=['accuracy'])\n",
    "print(model_rnn.summary())"
   ]
  },
  {
   "cell_type": "markdown",
   "metadata": {},
   "source": [
    "### Training Model"
   ]
  },
  {
   "cell_type": "code",
   "execution_count": 36,
   "metadata": {},
   "outputs": [
    {
     "name": "stdout",
     "output_type": "stream",
     "text": [
      "Epoch 1/5\n",
      "3109/3109 [==============================] - 126s 40ms/step - loss: 0.0000e+00 - accuracy: 0.0913\n",
      "Epoch 2/5\n",
      "3109/3109 [==============================] - 127s 41ms/step - loss: 0.0000e+00 - accuracy: 0.0912\n",
      "Epoch 3/5\n",
      "3109/3109 [==============================] - 122s 39ms/step - loss: 0.0000e+00 - accuracy: 0.0911\n",
      "Epoch 4/5\n",
      "3109/3109 [==============================] - 100s 32ms/step - loss: 0.0000e+00 - accuracy: 0.0923\n",
      "Epoch 5/5\n",
      "3109/3109 [==============================] - 100s 32ms/step - loss: 0.0000e+00 - accuracy: 0.0922\n"
     ]
    },
    {
     "data": {
      "text/plain": [
       "<tensorflow.python.keras.callbacks.History at 0x7f47ea7353d0>"
      ]
     },
     "execution_count": 36,
     "metadata": {},
     "output_type": "execute_result"
    }
   ],
   "source": [
    "model_rnn.fit(reviews_train, sentiments_train, batch_size = 128, epochs = 5)"
   ]
  },
  {
   "cell_type": "markdown",
   "metadata": {},
   "source": [
    "### Calculating Accuracy"
   ]
  },
  {
   "cell_type": "code",
   "execution_count": 37,
   "metadata": {},
   "outputs": [],
   "source": [
    "result = model_rnn.evaluate(reviews_test, sentiments_test, verbose=0)\n",
    "accuracy_RNN = result[1]*100"
   ]
  },
  {
   "cell_type": "markdown",
   "metadata": {},
   "source": [
    "# LSTM\n",
    "### Model Deinition"
   ]
  },
  {
   "cell_type": "code",
   "execution_count": 39,
   "metadata": {},
   "outputs": [
    {
     "name": "stdout",
     "output_type": "stream",
     "text": [
      "Model: \"sequential_3\"\n",
      "_________________________________________________________________\n",
      "Layer (type)                 Output Shape              Param #   \n",
      "=================================================================\n",
      "embedding_3 (Embedding)      (None, 35, 32)            3397824   \n",
      "_________________________________________________________________\n",
      "lstm_1 (LSTM)                (None, 100)               53200     \n",
      "_________________________________________________________________\n",
      "dense_3 (Dense)              (None, 1)                 101       \n",
      "=================================================================\n",
      "Total params: 3,451,125\n",
      "Trainable params: 3,451,125\n",
      "Non-trainable params: 0\n",
      "_________________________________________________________________\n",
      "None\n"
     ]
    }
   ],
   "source": [
    "model_lstm = Sequential()\n",
    "model_lstm.add(Embedding(total_words, embedding_dim, input_length=max_review_length))\n",
    "model_lstm.add(LSTM(100, dropout=0.25))\n",
    "model_lstm.add(Dense(1, activation='softmax'))\n",
    "opt = keras.optimizers.Adam()\n",
    "model_lstm.compile(loss='categorical_crossentropy', optimizer=opt, metrics=['accuracy'])\n",
    "print(model_lstm.summary())"
   ]
  },
  {
   "cell_type": "markdown",
   "metadata": {},
   "source": [
    "### Training Model"
   ]
  },
  {
   "cell_type": "code",
   "execution_count": 40,
   "metadata": {},
   "outputs": [
    {
     "name": "stdout",
     "output_type": "stream",
     "text": [
      "Epoch 1/5\n",
      "3109/3109 [==============================] - 215s 69ms/step - loss: 0.0000e+00 - accuracy: 0.0917\n",
      "Epoch 2/5\n",
      "3109/3109 [==============================] - 223s 72ms/step - loss: 0.0000e+00 - accuracy: 0.0918\n",
      "Epoch 3/5\n",
      "3109/3109 [==============================] - 223s 72ms/step - loss: 0.0000e+00 - accuracy: 0.0912\n",
      "Epoch 4/5\n",
      "3109/3109 [==============================] - 221s 71ms/step - loss: 0.0000e+00 - accuracy: 0.0920\n",
      "Epoch 5/5\n",
      "3109/3109 [==============================] - 216s 70ms/step - loss: 0.0000e+00 - accuracy: 0.0919\n"
     ]
    },
    {
     "data": {
      "text/plain": [
       "<tensorflow.python.keras.callbacks.History at 0x7f47e7d197c0>"
      ]
     },
     "execution_count": 40,
     "metadata": {},
     "output_type": "execute_result"
    }
   ],
   "source": [
    "model_lstm.fit(reviews_train, sentiments_train, batch_size = 128, epochs = 5)"
   ]
  },
  {
   "cell_type": "markdown",
   "metadata": {},
   "source": [
    "### Calculating Accracy"
   ]
  },
  {
   "cell_type": "code",
   "execution_count": 41,
   "metadata": {},
   "outputs": [],
   "source": [
    "result = model_lstm.evaluate(reviews_test, sentiments_test, verbose=0)\n",
    "accuracy_LSTM = result[1]*100"
   ]
  },
  {
   "cell_type": "markdown",
   "metadata": {},
   "source": [
    "# BiLSTM\n",
    "### Model Definition"
   ]
  },
  {
   "cell_type": "code",
   "execution_count": 42,
   "metadata": {},
   "outputs": [
    {
     "name": "stdout",
     "output_type": "stream",
     "text": [
      "Model: \"sequential_4\"\n",
      "_________________________________________________________________\n",
      "Layer (type)                 Output Shape              Param #   \n",
      "=================================================================\n",
      "embedding_4 (Embedding)      (None, 35, 32)            3397824   \n",
      "_________________________________________________________________\n",
      "bidirectional (Bidirectional (None, 200)               106400    \n",
      "_________________________________________________________________\n",
      "dense_4 (Dense)              (None, 1)                 201       \n",
      "=================================================================\n",
      "Total params: 3,504,425\n",
      "Trainable params: 3,504,425\n",
      "Non-trainable params: 0\n",
      "_________________________________________________________________\n",
      "None\n"
     ]
    }
   ],
   "source": [
    "model_bilstm = Sequential()\n",
    "model_bilstm.add(Embedding(total_words, embedding_dim,input_length=max_review_length))\n",
    "model_bilstm.add(Bidirectional(LSTM(100, dropout=0.25)))\n",
    "model_bilstm.add(Dense(1, activation='softmax'))\n",
    "opt = keras.optimizers.Adam()\n",
    "model_bilstm.compile(loss='categorical_crossentropy', optimizer=opt, metrics=['accuracy'])\n",
    "print(model_bilstm.summary())"
   ]
  },
  {
   "cell_type": "markdown",
   "metadata": {},
   "source": [
    "### Training Model"
   ]
  },
  {
   "cell_type": "code",
   "execution_count": 43,
   "metadata": {},
   "outputs": [
    {
     "name": "stdout",
     "output_type": "stream",
     "text": [
      "Epoch 1/5\n",
      "3109/3109 [==============================] - 291s 93ms/step - loss: 0.0000e+00 - accuracy: 0.0918\n",
      "Epoch 2/5\n",
      "3109/3109 [==============================] - 305s 98ms/step - loss: 0.0000e+00 - accuracy: 0.0914\n",
      "Epoch 3/5\n",
      "3109/3109 [==============================] - 281s 90ms/step - loss: 0.0000e+00 - accuracy: 0.0911\n",
      "Epoch 4/5\n",
      "3109/3109 [==============================] - 295s 95ms/step - loss: 0.0000e+00 - accuracy: 0.0919\n",
      "Epoch 5/5\n",
      "3109/3109 [==============================] - 292s 94ms/step - loss: 0.0000e+00 - accuracy: 0.0915\n"
     ]
    },
    {
     "data": {
      "text/plain": [
       "<tensorflow.python.keras.callbacks.History at 0x7f47d94b22b0>"
      ]
     },
     "execution_count": 43,
     "metadata": {},
     "output_type": "execute_result"
    }
   ],
   "source": [
    "model_bilstm.fit(reviews_train, sentiments_train, batch_size = 128, epochs = 5)"
   ]
  },
  {
   "cell_type": "markdown",
   "metadata": {},
   "source": [
    "### Calculating Accuracy"
   ]
  },
  {
   "cell_type": "code",
   "execution_count": 44,
   "metadata": {},
   "outputs": [],
   "source": [
    "result = model_bilstm.evaluate(reviews_test, sentiments_test, verbose=0)\n",
    "accuracy_BiLSTM = result[1]*100"
   ]
  },
  {
   "cell_type": "markdown",
   "metadata": {},
   "source": [
    "# ResultsRNN\n",
    "### Accuracy Table"
   ]
  },
  {
   "cell_type": "code",
   "execution_count": 3,
   "metadata": {},
   "outputs": [
    {
     "name": "stdout",
     "output_type": "stream",
     "text": [
      "+--------+----------+\n",
      "| Model  | Accuracy |\n",
      "+--------+----------+\n",
      "|  RNN   | 90.2115  |\n",
      "|  LSTM  | 92.4521  |\n",
      "| BiLSTM | 93.8944  |\n",
      "+--------+----------+\n"
     ]
    }
   ],
   "source": [
    "from prettytable import PrettyTable \n",
    "\n",
    "myTable = PrettyTable([\"Model\", \"Accuracy\"]) \n",
    "  \n",
    "myTable.add_row([\"RNN\", accuracy_RNN]) \n",
    "myTable.add_row([\"LSTM\", accuracy_LSTM]) \n",
    "myTable.add_row([\"BiLSTM\", accuracy_BiLSTM]) \n",
    "\n",
    "print(myTable)"
   ]
  },
  {
   "cell_type": "code",
   "execution_count": 5,
   "metadata": {},
   "outputs": [
    {
     "data": {
      "image/png": "[encoded data removed]",
      "text/plain": [
       "<Figure size 576x360 with 1 Axes>"
      ]
     },
     "metadata": {
      "needs_background": "light"
     },
     "output_type": "display_data"
    }
   ],
   "source": [
    "import matplotlib.pyplot as plt\n",
    "y1 = [accuracy_RNN,accuracy_LSTM,accuracy_BiLSTM]\n",
    "x = [\"RNN\",\"LSTM\",\"BiLSTM\"]\n",
    "plt.figure(figsize=(8,5))\n",
    "plt.plot(x,y1)\n",
    "plt.xlabel(\"Model\")\n",
    "plt.ylabel(\"Accuracy\")\n",
    "plt.show()"
   ]
  },
  {
   "cell_type": "code",
   "execution_count": null,
   "metadata": {},
   "outputs": [],
   "source": []
  }
 ],
 "metadata": {
  "accelerator": "GPU",
  "colab": {
   "collapsed_sections": [
    "-hA4EJhhDwvP",
    "UtQUADGdEEBA",
    "XQE5p1-aGVMG",
    "0NYjaIVDFigC",
    "mIJpDg_3Fvpr",
    "xVCq-yEFHmR3"
   ],
   "name": "project_SMAI.ipynb",
   "provenance": []
  },
  "kernelspec": {
   "display_name": "Python 3",
   "language": "python",
   "name": "python3"
  },
  "language_info": {
   "codemirror_mode": {
    "name": "ipython",
    "version": 3
   },
   "file_extension": ".py",
   "mimetype": "text/x-python",
   "name": "python",
   "nbconvert_exporter": "python",
   "pygments_lexer": "ipython3",
   "version": "3.9.4"
  }
 },
 "nbformat": 4,
 "nbformat_minor": 4
}
